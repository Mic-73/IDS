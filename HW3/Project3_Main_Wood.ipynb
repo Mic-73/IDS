{
  "nbformat": 4,
  "nbformat_minor": 0,
  "metadata": {
    "colab": {
      "provenance": []
    },
    "kernelspec": {
      "name": "python3",
      "display_name": "Python 3"
    },
    "language_info": {
      "name": "python"
    }
  },
  "cells": [
    {
      "cell_type": "markdown",
      "source": [
        "`Author: Michael Wood`"
      ],
      "metadata": {
        "id": "Zmqk77oKwPoe"
      }
    },
    {
      "cell_type": "markdown",
      "source": [
        "## **PROJECT 3**"
      ],
      "metadata": {
        "id": "w40tUbQiU9Wj"
      }
    },
    {
      "cell_type": "markdown",
      "source": [
        "## **Part 1 (SQL)**\n",
        "\n",
        "    Import the life expectancy data file found here (https://github.com/bforoura/IDS/tree/main/HW3Links to an external site.) into SQL.\n",
        "\n",
        "I converted the csv file into SQL statements with the converter found here: https://www.convertcsv.com/csv-to-sql.htm. I named the table lifeExpectancy.\n",
        "The table creation in SQL is found in the file lifeExpectancy_Table_Creation.sql. A picture of the table created in SQL can be found\n",
        "[here](https://drive.google.com/file/d/1jCOEVJ4Ggs1TNcpeF5F4Xht_-fmTb-C4/view?usp=drive_link).\n",
        "\n",
        "Note: There were problems with uploading screenshots into Jupyter before. To avoid that, I am uploading my screenshots in to a Google Drive folder and linking them in this notebook. I updated the viewing requirements for the folder to have it so that anyone that has the link may view the pictures. Your browser may notify you that you are leaving colab. Simply click on the link again to continue to the picture if that occurs."
      ],
      "metadata": {
        "id": "B4HzW9wdwTIF"
      }
    },
    {
      "cell_type": "markdown",
      "source": [
        "### Query 1:\n",
        "    Delete all rows with population = 0. Perform further data cleaning for other attributes, as necessary.\n",
        "\n",
        "I first selected all rows where the population is NULL and deleted those.\n",
        "\n",
        "For all the other missing values, I filled those in with the averages of each of the columns with NULL values. For example, the 5th Papua New Guinea row had NULL for its GPA value. I filled that value in by calculating the average of the GPA column and updating the table with that average value. That average value replaced NULL.\n",
        "The updated Papua New Guinea row is found [here](https://drive.google.com/file/d/1iCMz46pAwbEwBm16w5hU4J9jGOgV0iyW/view?usp=drive_link). The SQL code I used for this process can be found [here](https://drive.google.com/file/d/1IA7_oKS56QCWijbZv4zzvkTjwp0l822x/view?usp=drive_link).\n",
        "\n",
        "The exact SQL code I used to clean the data can be found in SQL_Query1.sql in the repository this notebook is located in."
      ],
      "metadata": {
        "id": "3CpcMB_C3U7A"
      }
    },
    {
      "cell_type": "markdown",
      "source": [
        "### Query 2:\n",
        "    Display total count of countries after data cleaning.\n",
        "\n",
        "The total count of countries after cleaning the data is [856](https://drive.google.com/file/d/1YdenX07HCc-Ft2dkfYeAwZdy2AEz_0hU/view?usp=drive_link). The SQL code I used to find this out can be found in SQL_Query2.sql. A screenshot of the result from that script can be found [here](https://drive.google.com/file/d/10iqBdr_PA18ZuGGPtG4iRKIUf1ls6u3E/view?usp=drive_link)."
      ],
      "metadata": {
        "id": "oV15mi9T_MTA"
      }
    },
    {
      "cell_type": "markdown",
      "source": [
        "### Query 3:\n",
        "    List of countries with the highest and lowest average mortality rates (years 2010-2015)\n",
        "\n",
        "I searched for the 10 countries with the highest average mortality rates and the 10 countries with the lowest mortality rates in SQL.\n",
        "The list of the 10 countries with the highest average mortality rates can be found [here](https://drive.google.com/file/d/1H5NdIXtZc7GbE8UT9gfjGA33AccckzEV/view?usp=drive_link).\n",
        "The list of the 10 countries with the lowest average mortality rates can be found [here](https://drive.google.com/file/d/1ndL9KVK4vfuNREo2n7zY4z1vX1up-Fpq/view?usp=drive_link).\n",
        "\n",
        "The exact SQL script for this query can be found in SQL_Query3.sql. For the ordering of countries, I switched between desc and asc to find the highest and lowest 10 countries respectively."
      ],
      "metadata": {
        "id": "N_-9K_fYBXQV"
      }
    },
    {
      "cell_type": "markdown",
      "source": [
        "### Query 4:\n",
        "    List of countries with the highest and lowest average population (years 2010-2015)\n",
        "\n",
        "I searched for the 10 countries with the highest average population and the 10 countries with the lowest mortality rates in SQL.\n",
        "The list of the 10 countries with the highest average population can be found [here](https://drive.google.com/file/d/14v0WxmP5XevWPl-4wEskgdZLuWLRAbog/view?usp=drive_link).\n",
        "The list of the 10 countries with the lowest average population can be found [here](https://drive.google.com/file/d/1zKFDueKzX6byYeqsGXp3CPJ74SO1Ha05/view?usp=drive_link).\n",
        "\n",
        "The exact SQL script for this query can be found in SQL_Query4.sql. For the ordering of countries, I switched between desc and asc to find the highest and lowest 10 countries respectively."
      ],
      "metadata": {
        "id": "DqFQaG9WHHiH"
      }
    },
    {
      "cell_type": "markdown",
      "source": [
        "### Query 5:\n",
        "    List of countries with the highest and lowest average GDP (years 2010-2015)\n",
        "\n",
        "I searched for the 10 countries with the highest average GDP and the 10 countries with the lowest mortality rates in SQL.\n",
        "The list of the 10 countries with the highest average GDP can be found [here](https://drive.google.com/file/d/1ap-ecGz3z5Im3yLhrbkSHdYSdJ8IhzxP/view?usp=drive_link).\n",
        "The list of the 10 countries with the lowest average GDP can be found [here](https://drive.google.com/file/d/1e8emCYnt-cIGU4k1tO7MoPmlLmprTcmz/view?usp=drive_link).\n",
        "\n",
        "The exact SQL script for this query can be found in SQL_Query5.sql. For the ordering of countries, I switched between desc and asc to find the highest and lowest 10 countries respectively."
      ],
      "metadata": {
        "id": "lQoliJrfItTN"
      }
    },
    {
      "cell_type": "markdown",
      "source": [
        "### Query 6:\n",
        "    List of countries with the highest and lowest average Schooling  (years 2010-2015)\n",
        "\n",
        "I searched for the 10 countries with the highest average Schooling and the 10 countries with the lowest mortality rates in SQL.\n",
        "The list of the 10 countries with the highest average Schooling rates can be found [here](https://drive.google.com/file/d/1Iz9rX5c5u_qN2V3ZHMXGTmSHkZsYZ0F8/view?usp=drive_link).\n",
        "The list of the 10 countries with the lowest average Schooling can be found [here](https://drive.google.com/file/d/1YwkuE68Dh_ua016cj381Ke5s1LlgdHW6/view?usp=drive_link).\n",
        "\n",
        "The exact SQL script for this query can be found in SQL_Query6.sql. For the ordering of countries, I switched between desc and asc to find the highest and lowest 10 countries respectively."
      ],
      "metadata": {
        "id": "6MFe9AbbJUYn"
      }
    },
    {
      "cell_type": "markdown",
      "source": [
        "### Query 7:\n",
        "    Which countries have the highest and lowest average alcohol consumption (years 2010-2015)?\n",
        "\n",
        "I searched for the countries with the highest and lowest average alcohol consumption in SQL.\n",
        "The country with the highest average alchohol consumption is [Belarus](https://drive.google.com/file/d/10m_JPYYUlkiPpY29GwqkkHkqlYuwwoHh/view?usp=drive_link).\n",
        "The country with the lowest average alchohol consumption is [Afghanistan](https://drive.google.com/file/d/1lJPDJk1GRJ_HP6AMEBG21D_A99OWicn5/view?usp=drive_link).\n",
        "\n",
        "The exact SQL script for this query can be found in SQL_Query7.sql. For the ordering of countries, I switched between desc and asc to find the highest and lowest countries respectively."
      ],
      "metadata": {
        "id": "gtDTCKvSKaI9"
      }
    },
    {
      "cell_type": "markdown",
      "source": [
        "### Query 8:\n",
        "    Do densely populated countries tend to have lower life expectancy?\n",
        "\n",
        "Looking at the data, it would appear that densely populated countries do tend to have lower life expectancies. For example, India as the most densely populated country with a population of 1,293,859,294 has a life expactancy of 68. While this is not too low, this is a lower than average life expectancy. The country with the highest life expectancy is Belgium with a life expectancy of 89. The population of Belgium is only 112,957, a population far less than India's. This pattern between densely populated countries and lower life expectancy is shown throughout the countries with the highest populations."
      ],
      "metadata": {
        "id": "PPSP26roMpiJ"
      }
    },
    {
      "cell_type": "markdown",
      "source": [
        "## **Part 2 (Python)**\n",
        "\n",
        "    Import the life expectancy data into a dataframe (create the Jupyter notebook in Google Colab).\n",
        "    Be sure to name the dataframe columns accordingly and sanitize the data as you did in SQL.\n",
        "\n",
        "I created a separate Jupyter notebook for this part of the analysis. This can be found in Prolem3_Python.ipynb in the HW3 repository.\n",
        "\n",
        "[Here](https://drive.google.com/file/d/14ZGsH_xIV012FPMZLn6xckXe4rfszjeD/view?usp=drive_link) is a picture of the cleansed data frame."
      ],
      "metadata": {
        "id": "yNWgxFz8UW6y"
      }
    },
    {
      "cell_type": "markdown",
      "source": [
        "### Question 1a:\n",
        "Answer the following questions by performing correlation analysis:\n",
        "    How does Adult mortality rates affect life expectancy?\n",
        "\n",
        "Using correlation analysis, I saw that the correlation between adult mortality rates and life expectancy was -0.7487395522482938. This means that there is a strong, negative correlation between these two variables. This means that high adult mortality rates usually mean a low life expectancy in a given country and low adult mortality rates usually mean a high life expectancy. The higher the adult mortality rate is in the country the lower the life expectancy will typically be.\n",
        "\n",
        "[Here](https://drive.google.com/file/d/1go2OWW7XbjQqSeBYt6gTCh4_gfVSv2gq/view?usp=drive_link) is a picture of the correlation being calculated."
      ],
      "metadata": {
        "id": "ZeHmaZAsVNuF"
      }
    },
    {
      "cell_type": "markdown",
      "source": [
        "### Question 1b:\n",
        "\n",
        "    Does life expectancy have positive or negative correlation with eating\n",
        "    habits, drinking alcohol, social factors, and economic factors?\n",
        "\n",
        "I assigned each independent variable to these different factors. For eating habits, I used BMI. For drinking alcohol, I used Alcohol. For social factors, I used Population. For economic factors, I used Percentage_Expenditure, Total_Expenditure, and GDP.\n",
        "\n",
        "Using correlation analysis, I saw that the correlation between BMI and life expectancy was 0.5218131014609677. This is a positive correlation. [Here](https://drive.google.com/file/d/1ZDMnr65L52l7PADpzFQlK5oif6jJZ6-k/view?usp=drive_link) is a picture of the correlation being calculated.\n",
        "\n",
        "I saw that the correlation between Alcohol and life expectancy was positive at 0.4364306174121324. [Here](https://drive.google.com/file/d/1__VvvlGKzN3YwpinQFGwxY9T2pJdcK0G/view?usp=drive_link) is a picture of the correlation being calculated.\n",
        "\n",
        "I saw that the correlation between population and life expectancy was negative at -0.03348854643560358. [Here](https://drive.google.com/file/d/1VkUM9IsNLcufirBoQq3gaYgrLZxgXGpM/view?usp=drive_link) is a picture of the correlation being calculated.\n",
        "\n",
        "I saw that the correlation between percentage expenditure and life expectancy was positive at 0.3848071725273011. The correlation between total expenditure and life expectancy was positive at 0.23536379878485597. The correlation between GDP and life expectancy was positive at 0.4657830666220294. [Here](https://drive.google.com/file/d/1in9ADWg-EIxfAH6hZMhKzMKPFlfYR-a_/view?usp=drive_link) is a picture of the correlations being calculated."
      ],
      "metadata": {
        "id": "sx79YdTgVWHx"
      }
    },
    {
      "cell_type": "markdown",
      "source": [
        "### Question 1c:\n",
        "    What is the impact of schooling on the lifespan of humans?\n",
        "\n",
        "  Using correlation analysis, I saw that the correlation between Schooling and Life Expectancy was strong and positive at 0.7956806049403572. This implies that the higher the amount of schooling there is in a country the higher the life expectancy will typically be for that specific country. [Here](https://drive.google.com/file/d/1n8abJBSkSTh3KWh9XgQ-RtH1HkFfdIZv/view?usp=drive_link) is a picture of the correlation being calculated.\n"
      ],
      "metadata": {
        "id": "ruqZ9etZVWSF"
      }
    },
    {
      "cell_type": "markdown",
      "source": [
        "### Question 2:\n",
        "    Create and plot several linear regression models for life expectancy (as\n",
        "    the dependent variable) and the independent variables that had the highest\n",
        "    correlation with life expectancy as found in your correlation analysis.\n",
        "\n",
        "I created and plotted linear regression models for the top 3 independent variables with the 3 highest correlations with life expectancy. These independent variables were Schooling, BMI, and GDP. Their correlations were 0.7956806049403572, 0.5218131014609677, and 0.4657830666220294 respectively.\n",
        "\n",
        "Each linear regression model can be found here:\n",
        "*  [The Schooling Linear Regression model](https://drive.google.com/file/d/1xq3BVupgvnIcnlN2XV0-C4J7xWY-FZwK/view?usp=drive_link)\n",
        "*   [The BMI Linear Regression model](https://drive.google.com/file/d/1plWI8-DMtTVaUjSKj_07r7ayW8cOCbYh/view?usp=drive_link)\n",
        "*   [The GDP Linear Regression model](https://drive.google.com/file/d/1xYqj8E4pP6xfk2sDnRmUhER6EgWmS5gj/view?usp=drive_link)"
      ],
      "metadata": {
        "id": "typnV0_yVvGC"
      }
    },
    {
      "cell_type": "markdown",
      "source": [
        "### Question 3:\n",
        "    Provide the equation of each model and compute their R2 and MSE values.\n",
        "\n",
        "For each of the linear regression models, the equation was in slope-intercept form: y=m*x+b.\n",
        "*   y is the dependent variable (Life Expectancy)\n",
        "*   m is the slope between the two variables\n",
        "*   x is the independent variables (Schooling, BMI, and GDP)\n",
        "*   b is the y intercept of the regression line\n",
        "\n",
        "For the equations, the slope and intercept values were rounded up to four decimal points.\n",
        "\n",
        "The R2 and MSE values were calculated in the Jupyter Prolem3_Python.ipynb notebook itself as well.\n",
        "\n",
        "For the Schooling Linear Regression model the equation was (Life_Expectancy) = 2.3291 * (Schooling) + 41.1573. The R2 value was 0.6331076250782535. The MSE value was 28.940817002360802.\n",
        "\n",
        "For the BMI Linear Regression model the equation was (Life_Expectancy) = 0.2253 * (BMI) + 61.5545. The R2 value was 0.2722889128563142. The MSE value was 57.402537755401404.\n",
        "\n",
        "For the GDP Linear Regression model the equation was (Life_Expectancy) = 0.0003 * (GDP) + 68.3751. The R2 value was 0.2169538651518219. The MSE was 61.76741857303677.\n",
        "\n",
        "*   [The calculations of the slopes and intercepts](https://drive.google.com/file/d/1NiZbjCfnRzJd9cb1IU0uxre3KzoGk-Xb/view?usp=drive_link)\n",
        "*   [The calculations of the R2 and MSE values](https://drive.google.com/file/d/1XdEEvp8HUWo2kPZ1t7eCyH0ny8eRPqXm/view?usp=drive_link)"
      ],
      "metadata": {
        "id": "0xuCkZjNV1k7"
      }
    },
    {
      "cell_type": "markdown",
      "source": [
        "### Question 4:\n",
        "    Summarize your findings and explain which model performs the best.\n",
        "\n",
        "All of the values are already shown above in Question 3. These values show that the Schooling Linear Regression model performs the best. With an R2 score of 0.6331076250782535 and an MSE score of 28.940817002360802, this model has the best fit for the data. It has both the highest R2 value and the lowest MSE value out of the three models. This shows that the Schooling Linear Regression model performs the best with the data here."
      ],
      "metadata": {
        "id": "5TxcMTGDV6ml"
      }
    }
  ]
}