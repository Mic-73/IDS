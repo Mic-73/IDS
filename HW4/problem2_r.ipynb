{
  "nbformat": 4,
  "nbformat_minor": 0,
  "metadata": {
    "colab": {
      "provenance": []
    },
    "kernelspec": {
      "name": "ir",
      "display_name": "R"
    },
    "language_info": {
      "name": "R"
    }
  },
  "cells": [
    {
      "cell_type": "markdown",
      "source": [
        "---\n",
        "# Problem 2 (R)\n",
        "\n",
        "1. Use the following nutrition dataset: https://github.com/bforoura/IDS/blob/main/HW4/nutrition_subset.csvLinks to an external site.\n",
        "2. The elements in the data set are food items of various sizes, ranging from a teaspoon of cinnamon to an entire carrot cake.\n",
        "3. Sort the data set by saturated_ fat and produce a listing of the five food items highest in saturated fat. Comment on the validity of comparing food items of different sizes.\n",
        "4. Create a new variable, saturated_ fat_ per_gram, by dividing the amount of saturated fat  by the weight in grams. Sort the data set by saturated_ fat_ per_gram and produce a listing of the five food  items highest in saturated fat per gram. Which food has the most saturated fat per gram?\n",
        "5. Standardize (zero mean) the field saturated_ fat_ per_gram, and produce a listing of all the food items that are outliers at the high end of the scale. How many food items are outliers at the low end of the scale? Create a density plot for saturated_ fat_ per_gram\n",
        "6. Are there any missing values? If so, impute as necessary and explain your approach.\n",
        "7. Standardize (zero mean) the numeric variables, and determine if there are any outliers.\n",
        "8. Summarize your findings.\n",
        "\n",
        "Summarization and overall explanation located at the end of the notebook.\n",
        "\n",
        "---"
      ],
      "metadata": {
        "id": "Zf8X_lo25VI3"
      }
    },
    {
      "cell_type": "code",
      "source": [
        "# 1. Reading the data file\n",
        "\n",
        "library(readr)\n",
        "nutrition_subset <- read_csv(\"https://raw.githubusercontent.com/bforoura/IDS/main/HW4/nutrition_subset.csv\", show_col_types = FALSE)"
      ],
      "metadata": {
        "id": "RjQu0iWU5ai3"
      },
      "execution_count": 1,
      "outputs": []
    },
    {
      "cell_type": "code",
      "source": [
        "# 1. Convert to data frame and summarize\n",
        "\n",
        "summary(nutrition_subset)"
      ],
      "metadata": {
        "colab": {
          "base_uri": "https://localhost:8080/",
          "height": 142
        },
        "id": "n7Grbnf36aSb",
        "outputId": "8dcd4d92-276e-49ba-ca12-e8a306a55520"
      },
      "execution_count": 2,
      "outputs": [
        {
          "output_type": "display_data",
          "data": {
            "text/plain": [
              "  food item         weight_in_grams  saturated_fat      cholesterol     \n",
              " Length:961         Min.   :   0.4   Min.   :  0.000   Min.   :   0.00  \n",
              " Class :character   1st Qu.:  32.0   1st Qu.:  0.000   1st Qu.:   0.00  \n",
              " Mode  :character   Median : 113.0   Median :  0.400   Median :   0.00  \n",
              "                    Mean   : 149.4   Mean   :  3.988   Mean   :  32.55  \n",
              "                    3rd Qu.: 218.0   3rd Qu.:  3.300   3rd Qu.:  20.00  \n",
              "                    Max.   :1542.0   Max.   :119.900   Max.   :2053.00  "
            ]
          },
          "metadata": {}
        }
      ]
    },
    {
      "cell_type": "code",
      "source": [
        "# 3. Sort the data set by saturated_ fat\n",
        "\n",
        "sorted_saturated_fat <- head(nutrition_subset[order(nutrition_subset$saturated_fat, decreasing = TRUE),])\n",
        "\n",
        "# Produce a listing of the five food items highest in saturated fat.\n",
        "head(sorted_saturated_fat, 5)"
      ],
      "metadata": {
        "colab": {
          "base_uri": "https://localhost:8080/",
          "height": 255
        },
        "id": "g5JVM8CW6y2e",
        "outputId": "55238fbd-7cfb-4441-c883-c238a773588c"
      },
      "execution_count": 3,
      "outputs": [
        {
          "output_type": "display_data",
          "data": {
            "text/html": [
              "<table class=\"dataframe\">\n",
              "<caption>A tibble: 5 × 4</caption>\n",
              "<thead>\n",
              "\t<tr><th scope=col>food item</th><th scope=col>weight_in_grams</th><th scope=col>saturated_fat</th><th scope=col>cholesterol</th></tr>\n",
              "\t<tr><th scope=col>&lt;chr&gt;</th><th scope=col>&lt;dbl&gt;</th><th scope=col>&lt;dbl&gt;</th><th scope=col>&lt;dbl&gt;</th></tr>\n",
              "</thead>\n",
              "<tbody>\n",
              "\t<tr><td>CHEESECAKE                    1 CAKE </td><td>1110</td><td>119.9</td><td>2053</td></tr>\n",
              "\t<tr><td>ICE CREAM; VANLLA; RICH 16% FT1/2 GAL</td><td>1188</td><td>118.3</td><td> 703</td></tr>\n",
              "\t<tr><td>YELLOWCAKE W/ CHOCFRSTNG;COMML1 CAKE </td><td>1108</td><td> 92.0</td><td> 609</td></tr>\n",
              "\t<tr><td>CREME PIE                     1 PIE  </td><td> 910</td><td> 90.1</td><td>  46</td></tr>\n",
              "\t<tr><td>LARD                          1 CUP  </td><td> 205</td><td> 80.4</td><td> 195</td></tr>\n",
              "</tbody>\n",
              "</table>\n"
            ],
            "text/markdown": "\nA tibble: 5 × 4\n\n| food item &lt;chr&gt; | weight_in_grams &lt;dbl&gt; | saturated_fat &lt;dbl&gt; | cholesterol &lt;dbl&gt; |\n|---|---|---|---|\n| CHEESECAKE                    1 CAKE  | 1110 | 119.9 | 2053 |\n| ICE CREAM; VANLLA; RICH 16% FT1/2 GAL | 1188 | 118.3 |  703 |\n| YELLOWCAKE W/ CHOCFRSTNG;COMML1 CAKE  | 1108 |  92.0 |  609 |\n| CREME PIE                     1 PIE   |  910 |  90.1 |   46 |\n| LARD                          1 CUP   |  205 |  80.4 |  195 |\n\n",
            "text/latex": "A tibble: 5 × 4\n\\begin{tabular}{llll}\n food item & weight\\_in\\_grams & saturated\\_fat & cholesterol\\\\\n <chr> & <dbl> & <dbl> & <dbl>\\\\\n\\hline\n\t CHEESECAKE                    1 CAKE  & 1110 & 119.9 & 2053\\\\\n\t ICE CREAM; VANLLA; RICH 16\\% FT1/2 GAL & 1188 & 118.3 &  703\\\\\n\t YELLOWCAKE W/ CHOCFRSTNG;COMML1 CAKE  & 1108 &  92.0 &  609\\\\\n\t CREME PIE                     1 PIE   &  910 &  90.1 &   46\\\\\n\t LARD                          1 CUP   &  205 &  80.4 &  195\\\\\n\\end{tabular}\n",
            "text/plain": [
              "  food item                             weight_in_grams saturated_fat\n",
              "1 CHEESECAKE                    1 CAKE  1110            119.9        \n",
              "2 ICE CREAM; VANLLA; RICH 16% FT1/2 GAL 1188            118.3        \n",
              "3 YELLOWCAKE W/ CHOCFRSTNG;COMML1 CAKE  1108             92.0        \n",
              "4 CREME PIE                     1 PIE    910             90.1        \n",
              "5 LARD                          1 CUP    205             80.4        \n",
              "  cholesterol\n",
              "1 2053       \n",
              "2  703       \n",
              "3  609       \n",
              "4   46       \n",
              "5  195       "
            ]
          },
          "metadata": {}
        }
      ]
    },
    {
      "cell_type": "code",
      "source": [
        "# 4. Create a new variable, saturated_ fat_ per_gram, by dividing the amount of saturated fat  by the weight in grams.\n",
        "\n",
        "nutrition_subset$saturated_fat_per_gram <- nutrition_subset$saturated_fat / nutrition_subset$weight_in_grams\n",
        "\n",
        "# Sort the data set by saturated_ fat_ per_gram and\n",
        "sorted_saturated_fat_per_gram <- nutrition_subset[order(nutrition_subset$saturated_fat_per_gram, decreasing = TRUE),]\n",
        "\n",
        "# Produce a listing of the five food  items highest in saturated fat per gram.\n",
        "head(sorted_saturated_fat_per_gram, 5)"
      ],
      "metadata": {
        "colab": {
          "base_uri": "https://localhost:8080/",
          "height": 255
        },
        "id": "iAnFGwl09s14",
        "outputId": "4d805b07-d6e9-4b6a-a9f6-c2cc1ed621fd"
      },
      "execution_count": 5,
      "outputs": [
        {
          "output_type": "display_data",
          "data": {
            "text/html": [
              "<table class=\"dataframe\">\n",
              "<caption>A tibble: 5 × 5</caption>\n",
              "<thead>\n",
              "\t<tr><th scope=col>food item</th><th scope=col>weight_in_grams</th><th scope=col>saturated_fat</th><th scope=col>cholesterol</th><th scope=col>saturated_fat_per_gram</th></tr>\n",
              "\t<tr><th scope=col>&lt;chr&gt;</th><th scope=col>&lt;dbl&gt;</th><th scope=col>&lt;dbl&gt;</th><th scope=col>&lt;dbl&gt;</th><th scope=col>&lt;dbl&gt;</th></tr>\n",
              "</thead>\n",
              "<tbody>\n",
              "\t<tr><td>BUTTER; SALTED                1 TBSP </td><td> 14</td><td> 7.1</td><td> 31</td><td>0.5071429</td></tr>\n",
              "\t<tr><td>BUTTER; UNSALTED              1 TBSP </td><td> 14</td><td> 7.1</td><td> 31</td><td>0.5071429</td></tr>\n",
              "\t<tr><td>BUTTER; SALTED                1/2 CUP</td><td>113</td><td>57.1</td><td>247</td><td>0.5053097</td></tr>\n",
              "\t<tr><td>BUTTER; UNSALTED              1/2 CUP</td><td>113</td><td>57.1</td><td>247</td><td>0.5053097</td></tr>\n",
              "\t<tr><td>BUTTER; SALTED                1 PAT  </td><td>  5</td><td> 2.5</td><td> 11</td><td>0.5000000</td></tr>\n",
              "</tbody>\n",
              "</table>\n"
            ],
            "text/markdown": "\nA tibble: 5 × 5\n\n| food item &lt;chr&gt; | weight_in_grams &lt;dbl&gt; | saturated_fat &lt;dbl&gt; | cholesterol &lt;dbl&gt; | saturated_fat_per_gram &lt;dbl&gt; |\n|---|---|---|---|---|\n| BUTTER; SALTED                1 TBSP  |  14 |  7.1 |  31 | 0.5071429 |\n| BUTTER; UNSALTED              1 TBSP  |  14 |  7.1 |  31 | 0.5071429 |\n| BUTTER; SALTED                1/2 CUP | 113 | 57.1 | 247 | 0.5053097 |\n| BUTTER; UNSALTED              1/2 CUP | 113 | 57.1 | 247 | 0.5053097 |\n| BUTTER; SALTED                1 PAT   |   5 |  2.5 |  11 | 0.5000000 |\n\n",
            "text/latex": "A tibble: 5 × 5\n\\begin{tabular}{lllll}\n food item & weight\\_in\\_grams & saturated\\_fat & cholesterol & saturated\\_fat\\_per\\_gram\\\\\n <chr> & <dbl> & <dbl> & <dbl> & <dbl>\\\\\n\\hline\n\t BUTTER; SALTED                1 TBSP  &  14 &  7.1 &  31 & 0.5071429\\\\\n\t BUTTER; UNSALTED              1 TBSP  &  14 &  7.1 &  31 & 0.5071429\\\\\n\t BUTTER; SALTED                1/2 CUP & 113 & 57.1 & 247 & 0.5053097\\\\\n\t BUTTER; UNSALTED              1/2 CUP & 113 & 57.1 & 247 & 0.5053097\\\\\n\t BUTTER; SALTED                1 PAT   &   5 &  2.5 &  11 & 0.5000000\\\\\n\\end{tabular}\n",
            "text/plain": [
              "  food item                             weight_in_grams saturated_fat\n",
              "1 BUTTER; SALTED                1 TBSP   14              7.1         \n",
              "2 BUTTER; UNSALTED              1 TBSP   14              7.1         \n",
              "3 BUTTER; SALTED                1/2 CUP 113             57.1         \n",
              "4 BUTTER; UNSALTED              1/2 CUP 113             57.1         \n",
              "5 BUTTER; SALTED                1 PAT     5              2.5         \n",
              "  cholesterol saturated_fat_per_gram\n",
              "1  31         0.5071429             \n",
              "2  31         0.5071429             \n",
              "3 247         0.5053097             \n",
              "4 247         0.5053097             \n",
              "5  11         0.5000000             "
            ]
          },
          "metadata": {}
        }
      ]
    },
    {
      "cell_type": "code",
      "source": [
        "# 5. Standardize (zero mean) the field saturated_ fat_ per_gram\n",
        "\n",
        "# Standardize using the scale() function and sumarize\n",
        "nutrition_subset$scaled_saturated_fat_per_gram <- scale(x = nutrition_subset$saturated_fat_per_gram)\n",
        "summary(nutrition_subset$scaled_saturated_fat_per_gram)\n",
        "\n",
        "# Produce a listing of all the food items that are outliers at the high end of the scale.\n",
        "nutrition_subset[nutrition_subset$scaled_saturated_fat_per_gram > 3,]"
      ],
      "metadata": {
        "colab": {
          "base_uri": "https://localhost:8080/",
          "height": 693
        },
        "id": "Cg3u8UQd_Z0Y",
        "outputId": "dd61aa68-a39d-446d-9ac3-f7d9b0094f82"
      },
      "execution_count": 6,
      "outputs": [
        {
          "output_type": "display_data",
          "data": {
            "text/plain": [
              "       V1         \n",
              " Min.   :-0.5620  \n",
              " 1st Qu.:-0.5620  \n",
              " Median :-0.4411  \n",
              " Mean   : 0.0000  \n",
              " 3rd Qu.: 0.1539  \n",
              " Max.   : 7.1068  "
            ]
          },
          "metadata": {}
        },
        {
          "output_type": "display_data",
          "data": {
            "text/html": [
              "<table class=\"dataframe\">\n",
              "<caption>A tibble: 15 × 6</caption>\n",
              "<thead>\n",
              "\t<tr><th scope=col>food item</th><th scope=col>weight_in_grams</th><th scope=col>saturated_fat</th><th scope=col>cholesterol</th><th scope=col>saturated_fat_per_gram</th><th scope=col>scaled_saturated_fat_per_gram</th></tr>\n",
              "\t<tr><th scope=col>&lt;chr&gt;</th><th scope=col>&lt;dbl&gt;</th><th scope=col>&lt;dbl&gt;</th><th scope=col>&lt;dbl&gt;</th><th scope=col>&lt;dbl&gt;</th><th scope=col>&lt;dbl[,1]&gt;</th></tr>\n",
              "</thead>\n",
              "<tbody>\n",
              "\t<tr><td>CHOCOLATE; BITTER OT BAKING   1 OZ   </td><td> 28.35</td><td> 9.0</td><td>  0</td><td>0.3174603</td><td>4.238469</td></tr>\n",
              "\t<tr><td>COCONUT; RAW; SHREDDED        1 CUP  </td><td> 80.00</td><td>23.8</td><td>  0</td><td>0.2975000</td><td>3.936637</td></tr>\n",
              "\t<tr><td>COCONUT; DRIED; SWEETND;SHREDD1 CUP  </td><td> 93.00</td><td>29.3</td><td>  0</td><td>0.3150538</td><td>4.202078</td></tr>\n",
              "\t<tr><td>COCONUT; RAW; PIECE           1 PIECE</td><td> 45.00</td><td>13.4</td><td>  0</td><td>0.2977778</td><td>3.940837</td></tr>\n",
              "\t<tr><td>BUTTER; SALTED                1/2 CUP</td><td>113.00</td><td>57.1</td><td>247</td><td>0.5053097</td><td>7.079055</td></tr>\n",
              "\t<tr><td>BUTTER; UNSALTED              1/2 CUP</td><td>113.00</td><td>57.1</td><td>247</td><td>0.5053097</td><td>7.079055</td></tr>\n",
              "\t<tr><td>LARD                          1 CUP  </td><td>205.00</td><td>80.4</td><td>195</td><td>0.3921951</td><td>5.368580</td></tr>\n",
              "\t<tr><td>FATS; COOKING/VEGETBL SHORTENG1 TBSP </td><td> 13.00</td><td> 3.3</td><td>  0</td><td>0.2538462</td><td>3.276520</td></tr>\n",
              "\t<tr><td>LARD                          1 TBSP </td><td> 13.00</td><td> 5.1</td><td> 12</td><td>0.3923077</td><td>5.370282</td></tr>\n",
              "\t<tr><td>FATS; COOKING/VEGETBL SHORTENG1 CUP  </td><td>205.00</td><td>51.3</td><td>  0</td><td>0.2502439</td><td>3.222049</td></tr>\n",
              "\t<tr><td>BUTTER; SALTED                1 TBSP </td><td> 14.00</td><td> 7.1</td><td> 31</td><td>0.5071429</td><td>7.106775</td></tr>\n",
              "\t<tr><td>BUTTER; UNSALTED              1 TBSP </td><td> 14.00</td><td> 7.1</td><td> 31</td><td>0.5071429</td><td>7.106775</td></tr>\n",
              "\t<tr><td>BUTTER; SALTED                1 PAT  </td><td>  5.00</td><td> 2.5</td><td> 11</td><td>0.5000000</td><td>6.998763</td></tr>\n",
              "\t<tr><td>BUTTER; UNSALTED              1 PAT  </td><td>  5.00</td><td> 2.5</td><td> 11</td><td>0.5000000</td><td>6.998763</td></tr>\n",
              "\t<tr><td>IMITATION CREAMERS; POWDERED  1 TSP  </td><td>  2.00</td><td> 0.7</td><td>  0</td><td>0.3500000</td><td>4.730522</td></tr>\n",
              "</tbody>\n",
              "</table>\n"
            ],
            "text/markdown": "\nA tibble: 15 × 6\n\n| food item &lt;chr&gt; | weight_in_grams &lt;dbl&gt; | saturated_fat &lt;dbl&gt; | cholesterol &lt;dbl&gt; | saturated_fat_per_gram &lt;dbl&gt; | scaled_saturated_fat_per_gram &lt;dbl[,1]&gt; |\n|---|---|---|---|---|---|\n| CHOCOLATE; BITTER OT BAKING   1 OZ    |  28.35 |  9.0 |   0 | 0.3174603 | 4.238469 |\n| COCONUT; RAW; SHREDDED        1 CUP   |  80.00 | 23.8 |   0 | 0.2975000 | 3.936637 |\n| COCONUT; DRIED; SWEETND;SHREDD1 CUP   |  93.00 | 29.3 |   0 | 0.3150538 | 4.202078 |\n| COCONUT; RAW; PIECE           1 PIECE |  45.00 | 13.4 |   0 | 0.2977778 | 3.940837 |\n| BUTTER; SALTED                1/2 CUP | 113.00 | 57.1 | 247 | 0.5053097 | 7.079055 |\n| BUTTER; UNSALTED              1/2 CUP | 113.00 | 57.1 | 247 | 0.5053097 | 7.079055 |\n| LARD                          1 CUP   | 205.00 | 80.4 | 195 | 0.3921951 | 5.368580 |\n| FATS; COOKING/VEGETBL SHORTENG1 TBSP  |  13.00 |  3.3 |   0 | 0.2538462 | 3.276520 |\n| LARD                          1 TBSP  |  13.00 |  5.1 |  12 | 0.3923077 | 5.370282 |\n| FATS; COOKING/VEGETBL SHORTENG1 CUP   | 205.00 | 51.3 |   0 | 0.2502439 | 3.222049 |\n| BUTTER; SALTED                1 TBSP  |  14.00 |  7.1 |  31 | 0.5071429 | 7.106775 |\n| BUTTER; UNSALTED              1 TBSP  |  14.00 |  7.1 |  31 | 0.5071429 | 7.106775 |\n| BUTTER; SALTED                1 PAT   |   5.00 |  2.5 |  11 | 0.5000000 | 6.998763 |\n| BUTTER; UNSALTED              1 PAT   |   5.00 |  2.5 |  11 | 0.5000000 | 6.998763 |\n| IMITATION CREAMERS; POWDERED  1 TSP   |   2.00 |  0.7 |   0 | 0.3500000 | 4.730522 |\n\n",
            "text/latex": "A tibble: 15 × 6\n\\begin{tabular}{llllll}\n food item & weight\\_in\\_grams & saturated\\_fat & cholesterol & saturated\\_fat\\_per\\_gram & scaled\\_saturated\\_fat\\_per\\_gram\\\\\n <chr> & <dbl> & <dbl> & <dbl> & <dbl> & <dbl{[},1{]}>\\\\\n\\hline\n\t CHOCOLATE; BITTER OT BAKING   1 OZ    &  28.35 &  9.0 &   0 & 0.3174603 & 4.238469\\\\\n\t COCONUT; RAW; SHREDDED        1 CUP   &  80.00 & 23.8 &   0 & 0.2975000 & 3.936637\\\\\n\t COCONUT; DRIED; SWEETND;SHREDD1 CUP   &  93.00 & 29.3 &   0 & 0.3150538 & 4.202078\\\\\n\t COCONUT; RAW; PIECE           1 PIECE &  45.00 & 13.4 &   0 & 0.2977778 & 3.940837\\\\\n\t BUTTER; SALTED                1/2 CUP & 113.00 & 57.1 & 247 & 0.5053097 & 7.079055\\\\\n\t BUTTER; UNSALTED              1/2 CUP & 113.00 & 57.1 & 247 & 0.5053097 & 7.079055\\\\\n\t LARD                          1 CUP   & 205.00 & 80.4 & 195 & 0.3921951 & 5.368580\\\\\n\t FATS; COOKING/VEGETBL SHORTENG1 TBSP  &  13.00 &  3.3 &   0 & 0.2538462 & 3.276520\\\\\n\t LARD                          1 TBSP  &  13.00 &  5.1 &  12 & 0.3923077 & 5.370282\\\\\n\t FATS; COOKING/VEGETBL SHORTENG1 CUP   & 205.00 & 51.3 &   0 & 0.2502439 & 3.222049\\\\\n\t BUTTER; SALTED                1 TBSP  &  14.00 &  7.1 &  31 & 0.5071429 & 7.106775\\\\\n\t BUTTER; UNSALTED              1 TBSP  &  14.00 &  7.1 &  31 & 0.5071429 & 7.106775\\\\\n\t BUTTER; SALTED                1 PAT   &   5.00 &  2.5 &  11 & 0.5000000 & 6.998763\\\\\n\t BUTTER; UNSALTED              1 PAT   &   5.00 &  2.5 &  11 & 0.5000000 & 6.998763\\\\\n\t IMITATION CREAMERS; POWDERED  1 TSP   &   2.00 &  0.7 &   0 & 0.3500000 & 4.730522\\\\\n\\end{tabular}\n",
            "text/plain": [
              "   food item                             weight_in_grams saturated_fat\n",
              "1  CHOCOLATE; BITTER OT BAKING   1 OZ     28.35           9.0         \n",
              "2  COCONUT; RAW; SHREDDED        1 CUP    80.00          23.8         \n",
              "3  COCONUT; DRIED; SWEETND;SHREDD1 CUP    93.00          29.3         \n",
              "4  COCONUT; RAW; PIECE           1 PIECE  45.00          13.4         \n",
              "5  BUTTER; SALTED                1/2 CUP 113.00          57.1         \n",
              "6  BUTTER; UNSALTED              1/2 CUP 113.00          57.1         \n",
              "7  LARD                          1 CUP   205.00          80.4         \n",
              "8  FATS; COOKING/VEGETBL SHORTENG1 TBSP   13.00           3.3         \n",
              "9  LARD                          1 TBSP   13.00           5.1         \n",
              "10 FATS; COOKING/VEGETBL SHORTENG1 CUP   205.00          51.3         \n",
              "11 BUTTER; SALTED                1 TBSP   14.00           7.1         \n",
              "12 BUTTER; UNSALTED              1 TBSP   14.00           7.1         \n",
              "13 BUTTER; SALTED                1 PAT     5.00           2.5         \n",
              "14 BUTTER; UNSALTED              1 PAT     5.00           2.5         \n",
              "15 IMITATION CREAMERS; POWDERED  1 TSP     2.00           0.7         \n",
              "   cholesterol saturated_fat_per_gram scaled_saturated_fat_per_gram\n",
              "1    0         0.3174603              4.238469                     \n",
              "2    0         0.2975000              3.936637                     \n",
              "3    0         0.3150538              4.202078                     \n",
              "4    0         0.2977778              3.940837                     \n",
              "5  247         0.5053097              7.079055                     \n",
              "6  247         0.5053097              7.079055                     \n",
              "7  195         0.3921951              5.368580                     \n",
              "8    0         0.2538462              3.276520                     \n",
              "9   12         0.3923077              5.370282                     \n",
              "10   0         0.2502439              3.222049                     \n",
              "11  31         0.5071429              7.106775                     \n",
              "12  31         0.5071429              7.106775                     \n",
              "13  11         0.5000000              6.998763                     \n",
              "14  11         0.5000000              6.998763                     \n",
              "15   0         0.3500000              4.730522                     "
            ]
          },
          "metadata": {}
        }
      ]
    },
    {
      "cell_type": "code",
      "source": [
        "# 5. How many food items are outliers at the low end of the scale?\n",
        "\n",
        "# Producing a listing of all the food items that are outliers at the low end of the scale\n",
        "nutrition_subset[nutrition_subset$scaled_saturated_fat_per_gram < 3,]\n",
        "\n",
        "# Printing the number of food items that are outliers at the low end of the scale\n",
        "cat (\"The number of outliers on the low end of the scale:\", sum(nutrition_subset$scaled_saturated_fat_per_gram < 3))"
      ],
      "metadata": {
        "colab": {
          "base_uri": "https://localhost:8080/",
          "height": 1000
        },
        "id": "udXGcCEyBsUS",
        "outputId": "38411df4-94b2-43ac-aa35-95279c1211f6"
      },
      "execution_count": 9,
      "outputs": [
        {
          "output_type": "display_data",
          "data": {
            "text/html": [
              "<table class=\"dataframe\">\n",
              "<caption>A tibble: 946 × 6</caption>\n",
              "<thead>\n",
              "\t<tr><th scope=col>food item</th><th scope=col>weight_in_grams</th><th scope=col>saturated_fat</th><th scope=col>cholesterol</th><th scope=col>saturated_fat_per_gram</th><th scope=col>scaled_saturated_fat_per_gram</th></tr>\n",
              "\t<tr><th scope=col>&lt;chr&gt;</th><th scope=col>&lt;dbl&gt;</th><th scope=col>&lt;dbl&gt;</th><th scope=col>&lt;dbl&gt;</th><th scope=col>&lt;dbl&gt;</th><th scope=col>&lt;dbl[,1]&gt;</th></tr>\n",
              "</thead>\n",
              "<tbody>\n",
              "\t<tr><td>GELATIN; DRY                  1 ENVELP</td><td>  7.00</td><td> 0.0</td><td>  0</td><td>0.000000000</td><td>-0.56204258</td></tr>\n",
              "\t<tr><td>SEAWEED; SPIRULINA; DRIED     1 OZ    </td><td> 28.35</td><td> 0.8</td><td>  0</td><td>0.028218695</td><td>-0.13533042</td></tr>\n",
              "\t<tr><td>YEAST; BAKERS; DRY; ACTIVE    1 PKG   </td><td>  7.00</td><td> 0.0</td><td>  0</td><td>0.000000000</td><td>-0.56204258</td></tr>\n",
              "\t<tr><td>PARMESAN CHEESE; GRATED       1 OZ    </td><td> 28.35</td><td> 5.4</td><td> 22</td><td>0.190476190</td><td> 2.31826445</td></tr>\n",
              "\t<tr><td>PARMESAN CHEESE; GRATED       1 CUP   </td><td>100.00</td><td>19.1</td><td> 79</td><td>0.191000000</td><td> 2.32618530</td></tr>\n",
              "\t<tr><td>PARMESAN CHEESE; GRATED       1 TBSP  </td><td>  5.00</td><td> 1.0</td><td>  4</td><td>0.200000000</td><td> 2.46227981</td></tr>\n",
              "\t<tr><td>YEAST; BREWERS; DRY           1 TBSP  </td><td>  8.00</td><td> 0.0</td><td>  0</td><td>0.000000000</td><td>-0.56204258</td></tr>\n",
              "\t<tr><td>LAMB;CHOPS;ARM;BRAISED;LEAN   1.7 OZ  </td><td> 48.00</td><td> 2.9</td><td> 59</td><td>0.060416667</td><td> 0.35155481</td></tr>\n",
              "\t<tr><td>TUNA; CANND; DRND;WATR; WHITE 3 OZ    </td><td> 85.00</td><td> 0.3</td><td> 48</td><td>0.003529412</td><td>-0.50867218</td></tr>\n",
              "\t<tr><td>NONFAT DRY MILK; INSTANTIZED  1 CUP   </td><td> 68.00</td><td> 0.3</td><td> 12</td><td>0.004411765</td><td>-0.49532958</td></tr>\n",
              "\t<tr><td>NONFAT DRY MILK; INSTANTIZED  1 ENVLPE</td><td> 91.00</td><td> 0.4</td><td> 17</td><td>0.004395604</td><td>-0.49557395</td></tr>\n",
              "\t<tr><td>BUTTERMILK; DRIED             1 CUP   </td><td>120.00</td><td> 4.3</td><td> 83</td><td>0.035833333</td><td>-0.02018482</td></tr>\n",
              "\t<tr><td>BEEF; DRIED; CHIPPED          2.5 OZ  </td><td> 72.00</td><td> 1.8</td><td> 46</td><td>0.025000000</td><td>-0.18400228</td></tr>\n",
              "\t<tr><td>PORK SHOULDER; BRAISD; LEAN   2.4 OZ  </td><td> 67.00</td><td> 2.8</td><td> 76</td><td>0.041791045</td><td> 0.06990538</td></tr>\n",
              "\t<tr><td>BEEF; CKD;BTTM ROUND;LEAN ONLY2.8 OZ  </td><td> 78.00</td><td> 2.7</td><td> 75</td><td>0.034615385</td><td>-0.03860217</td></tr>\n",
              "\t<tr><td>PORK CHOP; LOIN; BROIL; LEAN  2.5 OZ  </td><td> 72.00</td><td> 2.6</td><td> 71</td><td>0.036111111</td><td>-0.01598437</td></tr>\n",
              "\t<tr><td>LAMB;CHOPS;ARM;BRAISED;LEAN+FT2.2 OZ  </td><td> 63.00</td><td> 6.9</td><td> 77</td><td>0.109523810</td><td> 1.09413397</td></tr>\n",
              "\t<tr><td>CHICKEN; FRIED; FLOUR; BREAST 3.5 OZ  </td><td> 98.00</td><td> 2.4</td><td> 87</td><td>0.024489796</td><td>-0.19171739</td></tr>\n",
              "\t<tr><td>PORK; CURED; BACON; REGUL;CKED3 SLICE </td><td> 19.00</td><td> 3.3</td><td> 16</td><td>0.173684211</td><td> 2.06434265</td></tr>\n",
              "\t<tr><td>CHICKEN; ROASTED; BREAST      3.0 OZ  </td><td> 86.00</td><td> 0.9</td><td> 73</td><td>0.010465116</td><td>-0.40379315</td></tr>\n",
              "\t<tr><td>PEANUT BUTTER                 1 TBSP  </td><td> 16.00</td><td> 1.4</td><td>  0</td><td>0.087500000</td><td> 0.76109846</td></tr>\n",
              "\t<tr><td>BEEF; CKD;CHUCK BLADE;LEANONLY2.2 OZ  </td><td> 62.00</td><td> 3.9</td><td> 66</td><td>0.062903226</td><td> 0.38915559</td></tr>\n",
              "\t<tr><td>BEEF STEAK;SIRLOIN;BROIL;LEAN 2.5 OZ  </td><td> 72.00</td><td> 2.6</td><td> 64</td><td>0.036111111</td><td>-0.01598437</td></tr>\n",
              "\t<tr><td>LAMB;CHOPS;LOIN;BROIL;LEAN    2.3 OZ  </td><td> 64.00</td><td> 2.6</td><td> 60</td><td>0.040625000</td><td> 0.05227291</td></tr>\n",
              "\t<tr><td>BEEF; CKD;BTTM ROUND;LEAN+ FAT3 OZ    </td><td> 85.00</td><td> 4.8</td><td> 81</td><td>0.056470588</td><td> 0.29188374</td></tr>\n",
              "\t<tr><td>TURKEY; ROASTED; LIGHT + DARK 3 PIECES</td><td> 85.00</td><td> 1.4</td><td> 65</td><td>0.016470588</td><td>-0.31298073</td></tr>\n",
              "\t<tr><td>TURKEY; ROASTED; LIGHT MEAT   2 PIECES</td><td> 85.00</td><td> 0.9</td><td> 59</td><td>0.010588235</td><td>-0.40193139</td></tr>\n",
              "\t<tr><td>BEEF ROAST; EYE O RND; LEAN   2.6 OZ  </td><td> 75.00</td><td> 1.9</td><td> 52</td><td>0.025333333</td><td>-0.17896174</td></tr>\n",
              "\t<tr><td>TURKEY; ROASTED; LIGHT + DARK 1 CUP   </td><td>140.00</td><td> 2.3</td><td>106</td><td>0.016428571</td><td>-0.31361610</td></tr>\n",
              "\t<tr><td>PORK CHOP; LOIN;PANFRY; LEAN  2.4 OZ  </td><td> 67.00</td><td> 3.7</td><td> 72</td><td>0.055223881</td><td> 0.27303151</td></tr>\n",
              "\t<tr><td>⋮</td><td>⋮</td><td>⋮</td><td>⋮</td><td>⋮</td><td>⋮</td></tr>\n",
              "\t<tr><td>TABLE SYRUP (CORN AND MAPLE)  2 TBSP  </td><td> 42.0</td><td>0.0</td><td> 0</td><td>0.00000000</td><td>-0.56204258</td></tr>\n",
              "\t<tr><td>JELLIES                       1 PKT   </td><td> 14.0</td><td>0.0</td><td> 0</td><td>0.00000000</td><td>-0.56204258</td></tr>\n",
              "\t<tr><td>GIN;RUM;VODKA;WHISKY 90-PROOF 1.5 F OZ</td><td> 42.0</td><td>0.0</td><td> 0</td><td>0.00000000</td><td>-0.56204258</td></tr>\n",
              "\t<tr><td>GIN;RUM;VODKA;WHISKY 86-PROOF 1.5 F OZ</td><td> 42.0</td><td>0.0</td><td> 0</td><td>0.00000000</td><td>-0.56204258</td></tr>\n",
              "\t<tr><td>IMITATN WHIPD TOPING;PWDRD;PRP1 TBSP  </td><td>  4.0</td><td>0.4</td><td> 0</td><td>0.10000000</td><td> 0.95011861</td></tr>\n",
              "\t<tr><td>IMITATN WHIPD TOPING;PRESSRZD 1 TBSP  </td><td>  4.0</td><td>0.8</td><td> 0</td><td>0.20000000</td><td> 2.46227981</td></tr>\n",
              "\t<tr><td>MAYONNAISE; IMITATION         1 TBSP  </td><td> 15.0</td><td>0.5</td><td> 4</td><td>0.03333333</td><td>-0.05798885</td></tr>\n",
              "\t<tr><td>GIN;RUM;VODKA;WHISKY 80-PROOF 1.5 F OZ</td><td> 42.0</td><td>0.0</td><td> 0</td><td>0.00000000</td><td>-0.56204258</td></tr>\n",
              "\t<tr><td>SOUR CREAM                    1 TBSP  </td><td> 12.0</td><td>1.6</td><td> 5</td><td>0.13333333</td><td> 1.45417234</td></tr>\n",
              "\t<tr><td>LIGHT; COFFEE OR TABLE CREAM  1 TBSP  </td><td> 15.0</td><td>1.8</td><td>10</td><td>0.12000000</td><td> 1.25255085</td></tr>\n",
              "\t<tr><td>BAKING POWDER;SAS;CAPO4+CASO4 1 TSP   </td><td>  2.9</td><td>0.0</td><td> 0</td><td>0.00000000</td><td>-0.56204258</td></tr>\n",
              "\t<tr><td>IMITATN SOUR DRESSING         1 TBSP  </td><td> 12.0</td><td>1.6</td><td> 1</td><td>0.13333333</td><td> 1.45417234</td></tr>\n",
              "\t<tr><td>BAKING POWDER;SAS; CA PO4     1 TSP   </td><td>  3.0</td><td>0.0</td><td> 0</td><td>0.00000000</td><td>-0.56204258</td></tr>\n",
              "\t<tr><td>FRENCH SALAD DRESSING; LOCALOR1 TBSP  </td><td> 16.0</td><td>0.2</td><td> 0</td><td>0.01250000</td><td>-0.37302243</td></tr>\n",
              "\t<tr><td>HALF AND HALF; CREAM          1 TBSP  </td><td> 15.0</td><td>1.1</td><td> 6</td><td>0.07333333</td><td> 0.54687563</td></tr>\n",
              "\t<tr><td>IMITATION CREAMERS; LIQUID FRZ1 TBSP  </td><td> 15.0</td><td>1.4</td><td> 0</td><td>0.09333333</td><td> 0.84930787</td></tr>\n",
              "\t<tr><td>BAKING POWDER; STRGHT PHOSPHAT1 TSP   </td><td>  3.8</td><td>0.0</td><td> 0</td><td>0.00000000</td><td>-0.56204258</td></tr>\n",
              "\t<tr><td>BAKING POWDER; LOW SODIUM     1 TSP   </td><td>  4.3</td><td>0.0</td><td> 0</td><td>0.00000000</td><td>-0.56204258</td></tr>\n",
              "\t<tr><td>POPSICLE                      1 POPCLE</td><td> 95.0</td><td>0.0</td><td> 0</td><td>0.00000000</td><td>-0.56204258</td></tr>\n",
              "\t<tr><td>PLUMS; RAW; 1-1/2-IN DIAM     1 PLUM  </td><td> 28.0</td><td>0.0</td><td> 0</td><td>0.00000000</td><td>-0.56204258</td></tr>\n",
              "\t<tr><td>LIMEADE;CONCEN;FROZEN;DILUTED 6 FL OZ </td><td>185.0</td><td>0.0</td><td> 0</td><td>0.00000000</td><td>-0.56204258</td></tr>\n",
              "\t<tr><td>ITALIAN SALAD DRESSING;LOCALOR1 TBSP  </td><td> 15.0</td><td>0.0</td><td> 0</td><td>0.00000000</td><td>-0.56204258</td></tr>\n",
              "\t<tr><td>LEMON JUICE; CANNED           1 TBSP  </td><td> 15.0</td><td>0.0</td><td> 0</td><td>0.00000000</td><td>-0.56204258</td></tr>\n",
              "\t<tr><td>TEA;INSTANT;PREPARD;SWEETENED 8 FL OZ </td><td>262.0</td><td>0.0</td><td> 0</td><td>0.00000000</td><td>-0.56204258</td></tr>\n",
              "\t<tr><td>CLUB SODA                     12 FL OZ</td><td>355.0</td><td>0.0</td><td> 0</td><td>0.00000000</td><td>-0.56204258</td></tr>\n",
              "\t<tr><td>COFFEE; BREWED                6 FL OZ </td><td>180.0</td><td>0.0</td><td> 0</td><td>0.00000000</td><td>-0.56204258</td></tr>\n",
              "\t<tr><td>TEA; BREWED                   8 FL OZ </td><td>240.0</td><td>0.0</td><td> 0</td><td>0.00000000</td><td>-0.56204258</td></tr>\n",
              "\t<tr><td>TEA; INSTANT;PREPRD;UNSWEETEND8 FL OZ </td><td>241.0</td><td>0.0</td><td> 0</td><td>0.00000000</td><td>-0.56204258</td></tr>\n",
              "\t<tr><td>LETTUCE; BUTTERHEAD; RAW;LEAVE1 LEAF  </td><td> 15.0</td><td>0.0</td><td> 0</td><td>0.00000000</td><td>-0.56204258</td></tr>\n",
              "\t<tr><td>SALT                          1 TSP   </td><td>  5.5</td><td>0.0</td><td> 0</td><td>0.00000000</td><td>-0.56204258</td></tr>\n",
              "</tbody>\n",
              "</table>\n"
            ],
            "text/markdown": "\nA tibble: 946 × 6\n\n| food item &lt;chr&gt; | weight_in_grams &lt;dbl&gt; | saturated_fat &lt;dbl&gt; | cholesterol &lt;dbl&gt; | saturated_fat_per_gram &lt;dbl&gt; | scaled_saturated_fat_per_gram &lt;dbl[,1]&gt; |\n|---|---|---|---|---|---|\n| GELATIN; DRY                  1 ENVELP |   7.00 |  0.0 |   0 | 0.000000000 | -0.56204258 |\n| SEAWEED; SPIRULINA; DRIED     1 OZ     |  28.35 |  0.8 |   0 | 0.028218695 | -0.13533042 |\n| YEAST; BAKERS; DRY; ACTIVE    1 PKG    |   7.00 |  0.0 |   0 | 0.000000000 | -0.56204258 |\n| PARMESAN CHEESE; GRATED       1 OZ     |  28.35 |  5.4 |  22 | 0.190476190 |  2.31826445 |\n| PARMESAN CHEESE; GRATED       1 CUP    | 100.00 | 19.1 |  79 | 0.191000000 |  2.32618530 |\n| PARMESAN CHEESE; GRATED       1 TBSP   |   5.00 |  1.0 |   4 | 0.200000000 |  2.46227981 |\n| YEAST; BREWERS; DRY           1 TBSP   |   8.00 |  0.0 |   0 | 0.000000000 | -0.56204258 |\n| LAMB;CHOPS;ARM;BRAISED;LEAN   1.7 OZ   |  48.00 |  2.9 |  59 | 0.060416667 |  0.35155481 |\n| TUNA; CANND; DRND;WATR; WHITE 3 OZ     |  85.00 |  0.3 |  48 | 0.003529412 | -0.50867218 |\n| NONFAT DRY MILK; INSTANTIZED  1 CUP    |  68.00 |  0.3 |  12 | 0.004411765 | -0.49532958 |\n| NONFAT DRY MILK; INSTANTIZED  1 ENVLPE |  91.00 |  0.4 |  17 | 0.004395604 | -0.49557395 |\n| BUTTERMILK; DRIED             1 CUP    | 120.00 |  4.3 |  83 | 0.035833333 | -0.02018482 |\n| BEEF; DRIED; CHIPPED          2.5 OZ   |  72.00 |  1.8 |  46 | 0.025000000 | -0.18400228 |\n| PORK SHOULDER; BRAISD; LEAN   2.4 OZ   |  67.00 |  2.8 |  76 | 0.041791045 |  0.06990538 |\n| BEEF; CKD;BTTM ROUND;LEAN ONLY2.8 OZ   |  78.00 |  2.7 |  75 | 0.034615385 | -0.03860217 |\n| PORK CHOP; LOIN; BROIL; LEAN  2.5 OZ   |  72.00 |  2.6 |  71 | 0.036111111 | -0.01598437 |\n| LAMB;CHOPS;ARM;BRAISED;LEAN+FT2.2 OZ   |  63.00 |  6.9 |  77 | 0.109523810 |  1.09413397 |\n| CHICKEN; FRIED; FLOUR; BREAST 3.5 OZ   |  98.00 |  2.4 |  87 | 0.024489796 | -0.19171739 |\n| PORK; CURED; BACON; REGUL;CKED3 SLICE  |  19.00 |  3.3 |  16 | 0.173684211 |  2.06434265 |\n| CHICKEN; ROASTED; BREAST      3.0 OZ   |  86.00 |  0.9 |  73 | 0.010465116 | -0.40379315 |\n| PEANUT BUTTER                 1 TBSP   |  16.00 |  1.4 |   0 | 0.087500000 |  0.76109846 |\n| BEEF; CKD;CHUCK BLADE;LEANONLY2.2 OZ   |  62.00 |  3.9 |  66 | 0.062903226 |  0.38915559 |\n| BEEF STEAK;SIRLOIN;BROIL;LEAN 2.5 OZ   |  72.00 |  2.6 |  64 | 0.036111111 | -0.01598437 |\n| LAMB;CHOPS;LOIN;BROIL;LEAN    2.3 OZ   |  64.00 |  2.6 |  60 | 0.040625000 |  0.05227291 |\n| BEEF; CKD;BTTM ROUND;LEAN+ FAT3 OZ     |  85.00 |  4.8 |  81 | 0.056470588 |  0.29188374 |\n| TURKEY; ROASTED; LIGHT + DARK 3 PIECES |  85.00 |  1.4 |  65 | 0.016470588 | -0.31298073 |\n| TURKEY; ROASTED; LIGHT MEAT   2 PIECES |  85.00 |  0.9 |  59 | 0.010588235 | -0.40193139 |\n| BEEF ROAST; EYE O RND; LEAN   2.6 OZ   |  75.00 |  1.9 |  52 | 0.025333333 | -0.17896174 |\n| TURKEY; ROASTED; LIGHT + DARK 1 CUP    | 140.00 |  2.3 | 106 | 0.016428571 | -0.31361610 |\n| PORK CHOP; LOIN;PANFRY; LEAN  2.4 OZ   |  67.00 |  3.7 |  72 | 0.055223881 |  0.27303151 |\n| ⋮ | ⋮ | ⋮ | ⋮ | ⋮ | ⋮ |\n| TABLE SYRUP (CORN AND MAPLE)  2 TBSP   |  42.0 | 0.0 |  0 | 0.00000000 | -0.56204258 |\n| JELLIES                       1 PKT    |  14.0 | 0.0 |  0 | 0.00000000 | -0.56204258 |\n| GIN;RUM;VODKA;WHISKY 90-PROOF 1.5 F OZ |  42.0 | 0.0 |  0 | 0.00000000 | -0.56204258 |\n| GIN;RUM;VODKA;WHISKY 86-PROOF 1.5 F OZ |  42.0 | 0.0 |  0 | 0.00000000 | -0.56204258 |\n| IMITATN WHIPD TOPING;PWDRD;PRP1 TBSP   |   4.0 | 0.4 |  0 | 0.10000000 |  0.95011861 |\n| IMITATN WHIPD TOPING;PRESSRZD 1 TBSP   |   4.0 | 0.8 |  0 | 0.20000000 |  2.46227981 |\n| MAYONNAISE; IMITATION         1 TBSP   |  15.0 | 0.5 |  4 | 0.03333333 | -0.05798885 |\n| GIN;RUM;VODKA;WHISKY 80-PROOF 1.5 F OZ |  42.0 | 0.0 |  0 | 0.00000000 | -0.56204258 |\n| SOUR CREAM                    1 TBSP   |  12.0 | 1.6 |  5 | 0.13333333 |  1.45417234 |\n| LIGHT; COFFEE OR TABLE CREAM  1 TBSP   |  15.0 | 1.8 | 10 | 0.12000000 |  1.25255085 |\n| BAKING POWDER;SAS;CAPO4+CASO4 1 TSP    |   2.9 | 0.0 |  0 | 0.00000000 | -0.56204258 |\n| IMITATN SOUR DRESSING         1 TBSP   |  12.0 | 1.6 |  1 | 0.13333333 |  1.45417234 |\n| BAKING POWDER;SAS; CA PO4     1 TSP    |   3.0 | 0.0 |  0 | 0.00000000 | -0.56204258 |\n| FRENCH SALAD DRESSING; LOCALOR1 TBSP   |  16.0 | 0.2 |  0 | 0.01250000 | -0.37302243 |\n| HALF AND HALF; CREAM          1 TBSP   |  15.0 | 1.1 |  6 | 0.07333333 |  0.54687563 |\n| IMITATION CREAMERS; LIQUID FRZ1 TBSP   |  15.0 | 1.4 |  0 | 0.09333333 |  0.84930787 |\n| BAKING POWDER; STRGHT PHOSPHAT1 TSP    |   3.8 | 0.0 |  0 | 0.00000000 | -0.56204258 |\n| BAKING POWDER; LOW SODIUM     1 TSP    |   4.3 | 0.0 |  0 | 0.00000000 | -0.56204258 |\n| POPSICLE                      1 POPCLE |  95.0 | 0.0 |  0 | 0.00000000 | -0.56204258 |\n| PLUMS; RAW; 1-1/2-IN DIAM     1 PLUM   |  28.0 | 0.0 |  0 | 0.00000000 | -0.56204258 |\n| LIMEADE;CONCEN;FROZEN;DILUTED 6 FL OZ  | 185.0 | 0.0 |  0 | 0.00000000 | -0.56204258 |\n| ITALIAN SALAD DRESSING;LOCALOR1 TBSP   |  15.0 | 0.0 |  0 | 0.00000000 | -0.56204258 |\n| LEMON JUICE; CANNED           1 TBSP   |  15.0 | 0.0 |  0 | 0.00000000 | -0.56204258 |\n| TEA;INSTANT;PREPARD;SWEETENED 8 FL OZ  | 262.0 | 0.0 |  0 | 0.00000000 | -0.56204258 |\n| CLUB SODA                     12 FL OZ | 355.0 | 0.0 |  0 | 0.00000000 | -0.56204258 |\n| COFFEE; BREWED                6 FL OZ  | 180.0 | 0.0 |  0 | 0.00000000 | -0.56204258 |\n| TEA; BREWED                   8 FL OZ  | 240.0 | 0.0 |  0 | 0.00000000 | -0.56204258 |\n| TEA; INSTANT;PREPRD;UNSWEETEND8 FL OZ  | 241.0 | 0.0 |  0 | 0.00000000 | -0.56204258 |\n| LETTUCE; BUTTERHEAD; RAW;LEAVE1 LEAF   |  15.0 | 0.0 |  0 | 0.00000000 | -0.56204258 |\n| SALT                          1 TSP    |   5.5 | 0.0 |  0 | 0.00000000 | -0.56204258 |\n\n",
            "text/latex": "A tibble: 946 × 6\n\\begin{tabular}{llllll}\n food item & weight\\_in\\_grams & saturated\\_fat & cholesterol & saturated\\_fat\\_per\\_gram & scaled\\_saturated\\_fat\\_per\\_gram\\\\\n <chr> & <dbl> & <dbl> & <dbl> & <dbl> & <dbl{[},1{]}>\\\\\n\\hline\n\t GELATIN; DRY                  1 ENVELP &   7.00 &  0.0 &   0 & 0.000000000 & -0.56204258\\\\\n\t SEAWEED; SPIRULINA; DRIED     1 OZ     &  28.35 &  0.8 &   0 & 0.028218695 & -0.13533042\\\\\n\t YEAST; BAKERS; DRY; ACTIVE    1 PKG    &   7.00 &  0.0 &   0 & 0.000000000 & -0.56204258\\\\\n\t PARMESAN CHEESE; GRATED       1 OZ     &  28.35 &  5.4 &  22 & 0.190476190 &  2.31826445\\\\\n\t PARMESAN CHEESE; GRATED       1 CUP    & 100.00 & 19.1 &  79 & 0.191000000 &  2.32618530\\\\\n\t PARMESAN CHEESE; GRATED       1 TBSP   &   5.00 &  1.0 &   4 & 0.200000000 &  2.46227981\\\\\n\t YEAST; BREWERS; DRY           1 TBSP   &   8.00 &  0.0 &   0 & 0.000000000 & -0.56204258\\\\\n\t LAMB;CHOPS;ARM;BRAISED;LEAN   1.7 OZ   &  48.00 &  2.9 &  59 & 0.060416667 &  0.35155481\\\\\n\t TUNA; CANND; DRND;WATR; WHITE 3 OZ     &  85.00 &  0.3 &  48 & 0.003529412 & -0.50867218\\\\\n\t NONFAT DRY MILK; INSTANTIZED  1 CUP    &  68.00 &  0.3 &  12 & 0.004411765 & -0.49532958\\\\\n\t NONFAT DRY MILK; INSTANTIZED  1 ENVLPE &  91.00 &  0.4 &  17 & 0.004395604 & -0.49557395\\\\\n\t BUTTERMILK; DRIED             1 CUP    & 120.00 &  4.3 &  83 & 0.035833333 & -0.02018482\\\\\n\t BEEF; DRIED; CHIPPED          2.5 OZ   &  72.00 &  1.8 &  46 & 0.025000000 & -0.18400228\\\\\n\t PORK SHOULDER; BRAISD; LEAN   2.4 OZ   &  67.00 &  2.8 &  76 & 0.041791045 &  0.06990538\\\\\n\t BEEF; CKD;BTTM ROUND;LEAN ONLY2.8 OZ   &  78.00 &  2.7 &  75 & 0.034615385 & -0.03860217\\\\\n\t PORK CHOP; LOIN; BROIL; LEAN  2.5 OZ   &  72.00 &  2.6 &  71 & 0.036111111 & -0.01598437\\\\\n\t LAMB;CHOPS;ARM;BRAISED;LEAN+FT2.2 OZ   &  63.00 &  6.9 &  77 & 0.109523810 &  1.09413397\\\\\n\t CHICKEN; FRIED; FLOUR; BREAST 3.5 OZ   &  98.00 &  2.4 &  87 & 0.024489796 & -0.19171739\\\\\n\t PORK; CURED; BACON; REGUL;CKED3 SLICE  &  19.00 &  3.3 &  16 & 0.173684211 &  2.06434265\\\\\n\t CHICKEN; ROASTED; BREAST      3.0 OZ   &  86.00 &  0.9 &  73 & 0.010465116 & -0.40379315\\\\\n\t PEANUT BUTTER                 1 TBSP   &  16.00 &  1.4 &   0 & 0.087500000 &  0.76109846\\\\\n\t BEEF; CKD;CHUCK BLADE;LEANONLY2.2 OZ   &  62.00 &  3.9 &  66 & 0.062903226 &  0.38915559\\\\\n\t BEEF STEAK;SIRLOIN;BROIL;LEAN 2.5 OZ   &  72.00 &  2.6 &  64 & 0.036111111 & -0.01598437\\\\\n\t LAMB;CHOPS;LOIN;BROIL;LEAN    2.3 OZ   &  64.00 &  2.6 &  60 & 0.040625000 &  0.05227291\\\\\n\t BEEF; CKD;BTTM ROUND;LEAN+ FAT3 OZ     &  85.00 &  4.8 &  81 & 0.056470588 &  0.29188374\\\\\n\t TURKEY; ROASTED; LIGHT + DARK 3 PIECES &  85.00 &  1.4 &  65 & 0.016470588 & -0.31298073\\\\\n\t TURKEY; ROASTED; LIGHT MEAT   2 PIECES &  85.00 &  0.9 &  59 & 0.010588235 & -0.40193139\\\\\n\t BEEF ROAST; EYE O RND; LEAN   2.6 OZ   &  75.00 &  1.9 &  52 & 0.025333333 & -0.17896174\\\\\n\t TURKEY; ROASTED; LIGHT + DARK 1 CUP    & 140.00 &  2.3 & 106 & 0.016428571 & -0.31361610\\\\\n\t PORK CHOP; LOIN;PANFRY; LEAN  2.4 OZ   &  67.00 &  3.7 &  72 & 0.055223881 &  0.27303151\\\\\n\t ⋮ & ⋮ & ⋮ & ⋮ & ⋮ & ⋮\\\\\n\t TABLE SYRUP (CORN AND MAPLE)  2 TBSP   &  42.0 & 0.0 &  0 & 0.00000000 & -0.56204258\\\\\n\t JELLIES                       1 PKT    &  14.0 & 0.0 &  0 & 0.00000000 & -0.56204258\\\\\n\t GIN;RUM;VODKA;WHISKY 90-PROOF 1.5 F OZ &  42.0 & 0.0 &  0 & 0.00000000 & -0.56204258\\\\\n\t GIN;RUM;VODKA;WHISKY 86-PROOF 1.5 F OZ &  42.0 & 0.0 &  0 & 0.00000000 & -0.56204258\\\\\n\t IMITATN WHIPD TOPING;PWDRD;PRP1 TBSP   &   4.0 & 0.4 &  0 & 0.10000000 &  0.95011861\\\\\n\t IMITATN WHIPD TOPING;PRESSRZD 1 TBSP   &   4.0 & 0.8 &  0 & 0.20000000 &  2.46227981\\\\\n\t MAYONNAISE; IMITATION         1 TBSP   &  15.0 & 0.5 &  4 & 0.03333333 & -0.05798885\\\\\n\t GIN;RUM;VODKA;WHISKY 80-PROOF 1.5 F OZ &  42.0 & 0.0 &  0 & 0.00000000 & -0.56204258\\\\\n\t SOUR CREAM                    1 TBSP   &  12.0 & 1.6 &  5 & 0.13333333 &  1.45417234\\\\\n\t LIGHT; COFFEE OR TABLE CREAM  1 TBSP   &  15.0 & 1.8 & 10 & 0.12000000 &  1.25255085\\\\\n\t BAKING POWDER;SAS;CAPO4+CASO4 1 TSP    &   2.9 & 0.0 &  0 & 0.00000000 & -0.56204258\\\\\n\t IMITATN SOUR DRESSING         1 TBSP   &  12.0 & 1.6 &  1 & 0.13333333 &  1.45417234\\\\\n\t BAKING POWDER;SAS; CA PO4     1 TSP    &   3.0 & 0.0 &  0 & 0.00000000 & -0.56204258\\\\\n\t FRENCH SALAD DRESSING; LOCALOR1 TBSP   &  16.0 & 0.2 &  0 & 0.01250000 & -0.37302243\\\\\n\t HALF AND HALF; CREAM          1 TBSP   &  15.0 & 1.1 &  6 & 0.07333333 &  0.54687563\\\\\n\t IMITATION CREAMERS; LIQUID FRZ1 TBSP   &  15.0 & 1.4 &  0 & 0.09333333 &  0.84930787\\\\\n\t BAKING POWDER; STRGHT PHOSPHAT1 TSP    &   3.8 & 0.0 &  0 & 0.00000000 & -0.56204258\\\\\n\t BAKING POWDER; LOW SODIUM     1 TSP    &   4.3 & 0.0 &  0 & 0.00000000 & -0.56204258\\\\\n\t POPSICLE                      1 POPCLE &  95.0 & 0.0 &  0 & 0.00000000 & -0.56204258\\\\\n\t PLUMS; RAW; 1-1/2-IN DIAM     1 PLUM   &  28.0 & 0.0 &  0 & 0.00000000 & -0.56204258\\\\\n\t LIMEADE;CONCEN;FROZEN;DILUTED 6 FL OZ  & 185.0 & 0.0 &  0 & 0.00000000 & -0.56204258\\\\\n\t ITALIAN SALAD DRESSING;LOCALOR1 TBSP   &  15.0 & 0.0 &  0 & 0.00000000 & -0.56204258\\\\\n\t LEMON JUICE; CANNED           1 TBSP   &  15.0 & 0.0 &  0 & 0.00000000 & -0.56204258\\\\\n\t TEA;INSTANT;PREPARD;SWEETENED 8 FL OZ  & 262.0 & 0.0 &  0 & 0.00000000 & -0.56204258\\\\\n\t CLUB SODA                     12 FL OZ & 355.0 & 0.0 &  0 & 0.00000000 & -0.56204258\\\\\n\t COFFEE; BREWED                6 FL OZ  & 180.0 & 0.0 &  0 & 0.00000000 & -0.56204258\\\\\n\t TEA; BREWED                   8 FL OZ  & 240.0 & 0.0 &  0 & 0.00000000 & -0.56204258\\\\\n\t TEA; INSTANT;PREPRD;UNSWEETEND8 FL OZ  & 241.0 & 0.0 &  0 & 0.00000000 & -0.56204258\\\\\n\t LETTUCE; BUTTERHEAD; RAW;LEAVE1 LEAF   &  15.0 & 0.0 &  0 & 0.00000000 & -0.56204258\\\\\n\t SALT                          1 TSP    &   5.5 & 0.0 &  0 & 0.00000000 & -0.56204258\\\\\n\\end{tabular}\n",
            "text/plain": [
              "    food item                              weight_in_grams saturated_fat\n",
              "1   GELATIN; DRY                  1 ENVELP   7.00           0.0         \n",
              "2   SEAWEED; SPIRULINA; DRIED     1 OZ      28.35           0.8         \n",
              "3   YEAST; BAKERS; DRY; ACTIVE    1 PKG      7.00           0.0         \n",
              "4   PARMESAN CHEESE; GRATED       1 OZ      28.35           5.4         \n",
              "5   PARMESAN CHEESE; GRATED       1 CUP    100.00          19.1         \n",
              "6   PARMESAN CHEESE; GRATED       1 TBSP     5.00           1.0         \n",
              "7   YEAST; BREWERS; DRY           1 TBSP     8.00           0.0         \n",
              "8   LAMB;CHOPS;ARM;BRAISED;LEAN   1.7 OZ    48.00           2.9         \n",
              "9   TUNA; CANND; DRND;WATR; WHITE 3 OZ      85.00           0.3         \n",
              "10  NONFAT DRY MILK; INSTANTIZED  1 CUP     68.00           0.3         \n",
              "11  NONFAT DRY MILK; INSTANTIZED  1 ENVLPE  91.00           0.4         \n",
              "12  BUTTERMILK; DRIED             1 CUP    120.00           4.3         \n",
              "13  BEEF; DRIED; CHIPPED          2.5 OZ    72.00           1.8         \n",
              "14  PORK SHOULDER; BRAISD; LEAN   2.4 OZ    67.00           2.8         \n",
              "15  BEEF; CKD;BTTM ROUND;LEAN ONLY2.8 OZ    78.00           2.7         \n",
              "16  PORK CHOP; LOIN; BROIL; LEAN  2.5 OZ    72.00           2.6         \n",
              "17  LAMB;CHOPS;ARM;BRAISED;LEAN+FT2.2 OZ    63.00           6.9         \n",
              "18  CHICKEN; FRIED; FLOUR; BREAST 3.5 OZ    98.00           2.4         \n",
              "19  PORK; CURED; BACON; REGUL;CKED3 SLICE   19.00           3.3         \n",
              "20  CHICKEN; ROASTED; BREAST      3.0 OZ    86.00           0.9         \n",
              "21  PEANUT BUTTER                 1 TBSP    16.00           1.4         \n",
              "22  BEEF; CKD;CHUCK BLADE;LEANONLY2.2 OZ    62.00           3.9         \n",
              "23  BEEF STEAK;SIRLOIN;BROIL;LEAN 2.5 OZ    72.00           2.6         \n",
              "24  LAMB;CHOPS;LOIN;BROIL;LEAN    2.3 OZ    64.00           2.6         \n",
              "25  BEEF; CKD;BTTM ROUND;LEAN+ FAT3 OZ      85.00           4.8         \n",
              "26  TURKEY; ROASTED; LIGHT + DARK 3 PIECES  85.00           1.4         \n",
              "27  TURKEY; ROASTED; LIGHT MEAT   2 PIECES  85.00           0.9         \n",
              "28  BEEF ROAST; EYE O RND; LEAN   2.6 OZ    75.00           1.9         \n",
              "29  TURKEY; ROASTED; LIGHT + DARK 1 CUP    140.00           2.3         \n",
              "30  PORK CHOP; LOIN;PANFRY; LEAN  2.4 OZ    67.00           3.7         \n",
              "⋮   ⋮                                      ⋮               ⋮            \n",
              "917 TABLE SYRUP (CORN AND MAPLE)  2 TBSP    42.0           0.0          \n",
              "918 JELLIES                       1 PKT     14.0           0.0          \n",
              "919 GIN;RUM;VODKA;WHISKY 90-PROOF 1.5 F OZ  42.0           0.0          \n",
              "920 GIN;RUM;VODKA;WHISKY 86-PROOF 1.5 F OZ  42.0           0.0          \n",
              "921 IMITATN WHIPD TOPING;PWDRD;PRP1 TBSP     4.0           0.4          \n",
              "922 IMITATN WHIPD TOPING;PRESSRZD 1 TBSP     4.0           0.8          \n",
              "923 MAYONNAISE; IMITATION         1 TBSP    15.0           0.5          \n",
              "924 GIN;RUM;VODKA;WHISKY 80-PROOF 1.5 F OZ  42.0           0.0          \n",
              "925 SOUR CREAM                    1 TBSP    12.0           1.6          \n",
              "926 LIGHT; COFFEE OR TABLE CREAM  1 TBSP    15.0           1.8          \n",
              "927 BAKING POWDER;SAS;CAPO4+CASO4 1 TSP      2.9           0.0          \n",
              "928 IMITATN SOUR DRESSING         1 TBSP    12.0           1.6          \n",
              "929 BAKING POWDER;SAS; CA PO4     1 TSP      3.0           0.0          \n",
              "930 FRENCH SALAD DRESSING; LOCALOR1 TBSP    16.0           0.2          \n",
              "931 HALF AND HALF; CREAM          1 TBSP    15.0           1.1          \n",
              "932 IMITATION CREAMERS; LIQUID FRZ1 TBSP    15.0           1.4          \n",
              "933 BAKING POWDER; STRGHT PHOSPHAT1 TSP      3.8           0.0          \n",
              "934 BAKING POWDER; LOW SODIUM     1 TSP      4.3           0.0          \n",
              "935 POPSICLE                      1 POPCLE  95.0           0.0          \n",
              "936 PLUMS; RAW; 1-1/2-IN DIAM     1 PLUM    28.0           0.0          \n",
              "937 LIMEADE;CONCEN;FROZEN;DILUTED 6 FL OZ  185.0           0.0          \n",
              "938 ITALIAN SALAD DRESSING;LOCALOR1 TBSP    15.0           0.0          \n",
              "939 LEMON JUICE; CANNED           1 TBSP    15.0           0.0          \n",
              "940 TEA;INSTANT;PREPARD;SWEETENED 8 FL OZ  262.0           0.0          \n",
              "941 CLUB SODA                     12 FL OZ 355.0           0.0          \n",
              "942 COFFEE; BREWED                6 FL OZ  180.0           0.0          \n",
              "943 TEA; BREWED                   8 FL OZ  240.0           0.0          \n",
              "944 TEA; INSTANT;PREPRD;UNSWEETEND8 FL OZ  241.0           0.0          \n",
              "945 LETTUCE; BUTTERHEAD; RAW;LEAVE1 LEAF    15.0           0.0          \n",
              "946 SALT                          1 TSP      5.5           0.0          \n",
              "    cholesterol saturated_fat_per_gram scaled_saturated_fat_per_gram\n",
              "1     0         0.000000000            -0.56204258                  \n",
              "2     0         0.028218695            -0.13533042                  \n",
              "3     0         0.000000000            -0.56204258                  \n",
              "4    22         0.190476190             2.31826445                  \n",
              "5    79         0.191000000             2.32618530                  \n",
              "6     4         0.200000000             2.46227981                  \n",
              "7     0         0.000000000            -0.56204258                  \n",
              "8    59         0.060416667             0.35155481                  \n",
              "9    48         0.003529412            -0.50867218                  \n",
              "10   12         0.004411765            -0.49532958                  \n",
              "11   17         0.004395604            -0.49557395                  \n",
              "12   83         0.035833333            -0.02018482                  \n",
              "13   46         0.025000000            -0.18400228                  \n",
              "14   76         0.041791045             0.06990538                  \n",
              "15   75         0.034615385            -0.03860217                  \n",
              "16   71         0.036111111            -0.01598437                  \n",
              "17   77         0.109523810             1.09413397                  \n",
              "18   87         0.024489796            -0.19171739                  \n",
              "19   16         0.173684211             2.06434265                  \n",
              "20   73         0.010465116            -0.40379315                  \n",
              "21    0         0.087500000             0.76109846                  \n",
              "22   66         0.062903226             0.38915559                  \n",
              "23   64         0.036111111            -0.01598437                  \n",
              "24   60         0.040625000             0.05227291                  \n",
              "25   81         0.056470588             0.29188374                  \n",
              "26   65         0.016470588            -0.31298073                  \n",
              "27   59         0.010588235            -0.40193139                  \n",
              "28   52         0.025333333            -0.17896174                  \n",
              "29  106         0.016428571            -0.31361610                  \n",
              "30   72         0.055223881             0.27303151                  \n",
              "⋮   ⋮           ⋮                      ⋮                            \n",
              "917  0          0.00000000             -0.56204258                  \n",
              "918  0          0.00000000             -0.56204258                  \n",
              "919  0          0.00000000             -0.56204258                  \n",
              "920  0          0.00000000             -0.56204258                  \n",
              "921  0          0.10000000              0.95011861                  \n",
              "922  0          0.20000000              2.46227981                  \n",
              "923  4          0.03333333             -0.05798885                  \n",
              "924  0          0.00000000             -0.56204258                  \n",
              "925  5          0.13333333              1.45417234                  \n",
              "926 10          0.12000000              1.25255085                  \n",
              "927  0          0.00000000             -0.56204258                  \n",
              "928  1          0.13333333              1.45417234                  \n",
              "929  0          0.00000000             -0.56204258                  \n",
              "930  0          0.01250000             -0.37302243                  \n",
              "931  6          0.07333333              0.54687563                  \n",
              "932  0          0.09333333              0.84930787                  \n",
              "933  0          0.00000000             -0.56204258                  \n",
              "934  0          0.00000000             -0.56204258                  \n",
              "935  0          0.00000000             -0.56204258                  \n",
              "936  0          0.00000000             -0.56204258                  \n",
              "937  0          0.00000000             -0.56204258                  \n",
              "938  0          0.00000000             -0.56204258                  \n",
              "939  0          0.00000000             -0.56204258                  \n",
              "940  0          0.00000000             -0.56204258                  \n",
              "941  0          0.00000000             -0.56204258                  \n",
              "942  0          0.00000000             -0.56204258                  \n",
              "943  0          0.00000000             -0.56204258                  \n",
              "944  0          0.00000000             -0.56204258                  \n",
              "945  0          0.00000000             -0.56204258                  \n",
              "946  0          0.00000000             -0.56204258                  "
            ]
          },
          "metadata": {}
        },
        {
          "output_type": "stream",
          "name": "stdout",
          "text": [
            "The number of outliers on the low end of the scale: 946"
          ]
        }
      ]
    },
    {
      "cell_type": "code",
      "source": [
        "# 5. Create a density plot for saturated_ fat_ per_gram\n",
        "\n",
        "par(mfrow=c(1, 2))\n",
        "\n",
        "# Kernel Density Plot\n",
        "d1 <- density(nutrition_subset$saturated_fat_per_gram)\n",
        "\n",
        "# Plots the results\n",
        "plot(d1, main=\"Unscaled Saturated Fat Per Gram\")\n",
        "\n",
        "# Plots the results (filled)\n",
        "polygon(d1, col=\"orange\", border=\"blue\")\n",
        "\n",
        "\n",
        "# Kernel Density Plot\n",
        "d2 <- density(nutrition_subset$scaled_saturated_fat_per_gram)\n",
        "\n",
        "# plots the results\n",
        "plot(d2, main=\"Scaled Saturated Fat Per Gram\")\n",
        "\n",
        "# plots the results (filled)\n",
        "polygon(d2, col=\"orange\", border=\"blue\")"
      ],
      "metadata": {
        "colab": {
          "base_uri": "https://localhost:8080/",
          "height": 437
        },
        "id": "JIhIVgnuCrzE",
        "outputId": "107e3489-91e7-43f5-b474-470053d729d1"
      },
      "execution_count": 12,
      "outputs": [
        {
          "output_type": "display_data",
          "data": {
            "text/plain": [
              "Plot with title “Scaled Saturated Fat Per Gram”"
            ],
            "image/png": "[encoded data removed]"
          },
          "metadata": {
            "image/png": {
              "width": 420,
              "height": 420
            }
          }
        }
      ]
    },
    {
      "cell_type": "code",
      "source": [
        "# 6. Are there any missing values? If so, impute as necessary and explain your approach.\n",
        "\n",
        "sum(is.na(nutrition_subset))"
      ],
      "metadata": {
        "colab": {
          "base_uri": "https://localhost:8080/",
          "height": 34
        },
        "id": "edcMiDt2D-I5",
        "outputId": "5120b7fa-708f-4821-8ee4-c589cf22b41d"
      },
      "execution_count": 13,
      "outputs": [
        {
          "output_type": "display_data",
          "data": {
            "text/html": [
              "0"
            ],
            "text/markdown": "0",
            "text/latex": "0",
            "text/plain": [
              "[1] 0"
            ]
          },
          "metadata": {}
        }
      ]
    },
    {
      "cell_type": "code",
      "source": [
        "# 7. Standardize (zero mean) the numeric variables and summarize them\n",
        "\n",
        "nutrition_subset$scaled_weight_in_grams <- scale(x = nutrition_subset$weight_in_grams)\n",
        "\n",
        "summary(nutrition_subset$scaled_weight_in_grams)\n",
        "\n",
        "nutrition_subset$scaled_saturated_fat <- scale(x = nutrition_subset$saturated_fat)\n",
        "\n",
        "summary(nutrition_subset$scaled_saturated_fat)\n",
        "\n",
        "nutrition_subset$scaled_cholesterol <- scale(x = nutrition_subset$cholesterol)\n",
        "\n",
        "summary(nutrition_subset$scaled_cholesterol)\n",
        "\n",
        "# Determine if there are any outliers.\n",
        "\n",
        "scaled_weight_in_grams_outliers <- (nutrition_subset$scaled_weight_in_grams < -3 |\n",
        "                                    nutrition_subset$scaled_weight_in_grams > 3 )\n",
        "\n",
        "scaled_saturated_fat_outliers <- (nutrition_subset$scaled_saturated_fat < -3 |\n",
        "                                    nutrition_subset$scaled_saturated_fat > 3 )\n",
        "\n",
        "scaled_cholesterol_outliers <- (nutrition_subset$scaled_cholesterol < -3 |\n",
        "                                    nutrition_subset$scaled_cholesterol > 3 )\n",
        "\n",
        "cat (\"\\nThere are\", sum(scaled_weight_in_grams_outliers), \"outliers for scaled_weight_in_grams. \\n\")\n",
        "cat (\"There are\", sum(scaled_saturated_fat_outliers), \"outliers for scaled_saturated_fat. \\n\")\n",
        "cat (\"There are\", sum(scaled_cholesterol_outliers), \"outliers for scaled_cholesterol. \\n\")"
      ],
      "metadata": {
        "colab": {
          "base_uri": "https://localhost:8080/",
          "height": 463
        },
        "id": "duN6bBo_EYV1",
        "outputId": "94537bcc-65fe-4bb5-e869-fed0aca687f4"
      },
      "execution_count": 14,
      "outputs": [
        {
          "output_type": "display_data",
          "data": {
            "text/plain": [
              "       V1         \n",
              " Min.   :-0.8471  \n",
              " 1st Qu.:-0.6674  \n",
              " Median :-0.2070  \n",
              " Mean   : 0.0000  \n",
              " 3rd Qu.: 0.3899  \n",
              " Max.   : 7.9165  "
            ]
          },
          "metadata": {}
        },
        {
          "output_type": "display_data",
          "data": {
            "text/plain": [
              "       V1         \n",
              " Min.   :-0.3711  \n",
              " 1st Qu.:-0.3711  \n",
              " Median :-0.3339  \n",
              " Mean   : 0.0000  \n",
              " 3rd Qu.:-0.0640  \n",
              " Max.   :10.7882  "
            ]
          },
          "metadata": {}
        },
        {
          "output_type": "display_data",
          "data": {
            "text/plain": [
              "       V1         \n",
              " Min.   :-0.2714  \n",
              " 1st Qu.:-0.2714  \n",
              " Median :-0.2714  \n",
              " Mean   : 0.0000  \n",
              " 3rd Qu.:-0.1046  \n",
              " Max.   :16.8426  "
            ]
          },
          "metadata": {}
        },
        {
          "output_type": "stream",
          "name": "stdout",
          "text": [
            "\n",
            "There are 22 outliers for scaled_weight_in_grams. \n",
            "There are 20 outliers for scaled_saturated_fat. \n",
            "There are 17 outliers for scaled_cholesterol. \n"
          ]
        }
      ]
    },
    {
      "cell_type": "markdown",
      "source": [
        "---\n",
        "## 8. Summarize your findings.\n",
        "---\n",
        "1. I read the data file, converted it to a data frame and summarized it.\n",
        "2. The elements in the data set are food items of various sizes, ranging from a teaspoon of cinnamon to an entire carrot cake.\n",
        "3. I sorted the dataset by saturated_fat in decreasing order using the head() and order() functions and found the top five food items in saturated fat: CHEESECAKE 1 CAKE, ICE CREAM; VANLLA; RICH 16% FT1/2 GAL, YELLOWCAKE W/ CHOCFRSTNG;COMML1 CAKE, CREME PIE 1 PIE, LARD 1 CUP. Comparing food items of different sizes may not lead to conclusive information if it is the only factor being considered. Other factors should be taken into consideration such as what the food is made out of or where it came from. The size in food may not be the most important factor when comparing them, so it should not be the only factor being taken into account.\n",
        "4. I created a new variable called saturated_fat_per_gram by dividing the amount of saturated fat by the weight in grams. I then sorted the data set by this new variable in decreasing order and found the top 5 highest food items in this variable. The highest that had the most saturated fat per gram was both **salted and unsalted butter**.\n",
        "5. I standardized the data using the scale() function. I produced a list of both the high and low end outliers. The number of food items that are outliers at the low end of the scale is **946**. I then created a density table for both the scaled and unscaled values of saturated_fat_per_gram. It coinsides with the data and explains why there are so many outliers on the left end.\n",
        "6. I checked if the data had any missing values by getting the sum of na values in the entire data set using the is.na() function. There were 0 missing values found.\n",
        "7. I assumed that we were only working with the variables weight_in_grams, saturated_fat, and cholesterol for this question since we already standardized saturated_fat_per_gram previously. I standardized these variables using the scale() function. I then determined if there were any outliers by using the 3 standard deviation rule and summing the number of outliers found. There did appear to be outliers within the original data set. I found 22, 20, and 17 outliers within the respective standardized columns.\n",
        "---"
      ],
      "metadata": {
        "id": "K4BteM2y5mMu"
      }
    }
  ]
}