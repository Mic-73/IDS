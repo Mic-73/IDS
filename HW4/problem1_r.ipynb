{
  "nbformat": 4,
  "nbformat_minor": 0,
  "metadata": {
    "colab": {
      "provenance": []
    },
    "kernelspec": {
      "name": "ir",
      "display_name": "R"
    },
    "language_info": {
      "name": "R"
    }
  },
  "cells": [
    {
      "cell_type": "markdown",
      "source": [
        "# Problem 1 (R)\n",
        "\n",
        "---\n",
        "\n",
        "### Questions\n",
        "\n",
        "1. Use the following dataset about adults: https://github.com/bforoura/IDS/blob/main/HW4/adult_training.csv\n",
        "2. Create a contingency table of workclass and sex, and plot it.\n",
        "3. Create a contingency table of sex and marital status, and plot it.\n",
        "4. Create a new data frame, adultOver40, for those whose age > 40.\n",
        "5. Recreate the contingency table of sex and marital status for adultOver40.\n",
        "6. Determine whether any outliers exist for the education field.\n",
        "7. Standardize (zero mean) the age variable, and identify how many outliers there are. What is the most extreme outlier?\n",
        "8. Age anomaly? Select only records with age  at least 80, and construct a histogram of age. Explain what you see.\n",
        "9. Summarize your findings.\n",
        "\n",
        "Summarization and overall explanation located at the end of the notebook.\n",
        "\n",
        "---"
      ],
      "metadata": {
        "id": "GT129ur8IGF2"
      }
    },
    {
      "cell_type": "code",
      "execution_count": 82,
      "metadata": {
        "id": "DcElNP2IH7E8"
      },
      "outputs": [],
      "source": [
        "# 1. Reading the data file\n",
        "\n",
        "library(readr)\n",
        "adult_training <- read_csv(\"https://raw.githubusercontent.com/bforoura/IDS/main/HW4/adult_training.csv\", show_col_types = FALSE)"
      ]
    },
    {
      "cell_type": "code",
      "source": [
        "# 1. Convert to data frame and summarize\n",
        "\n",
        "summary(adult_training)"
      ],
      "metadata": {
        "colab": {
          "base_uri": "https://localhost:8080/",
          "height": 392
        },
        "id": "e_v2UmfUH_3q",
        "outputId": "b4fc7513-5322-4951-8c8b-f70367d9b9ef"
      },
      "execution_count": 83,
      "outputs": [
        {
          "output_type": "display_data",
          "data": {
            "text/plain": [
              "      age         workclass           education     marital-status    \n",
              " Min.   :17.00   Length:14797       Min.   : 1.00   Length:14797      \n",
              " 1st Qu.:28.00   Class :character   1st Qu.: 9.00   Class :character  \n",
              " Median :37.00   Mode  :character   Median :10.00   Mode  :character  \n",
              " Mean   :38.69                      Mean   :10.07                     \n",
              " 3rd Qu.:48.00                      3rd Qu.:12.00                     \n",
              " Max.   :90.00                      Max.   :16.00                     \n",
              "  occupation            sex             capital-gain    capital-loss    \n",
              " Length:14797       Length:14797       Min.   :    0   Min.   :   0.00  \n",
              " Class :character   Class :character   1st Qu.:    0   1st Qu.:   0.00  \n",
              " Mode  :character   Mode  :character   Median :    0   Median :   0.00  \n",
              "                                       Mean   : 1067   Mean   :  88.58  \n",
              "                                       3rd Qu.:    0   3rd Qu.:   0.00  \n",
              "                                       Max.   :99999   Max.   :4356.00  \n",
              "    income         \n",
              " Length:14797      \n",
              " Class :character  \n",
              " Mode  :character  \n",
              "                   \n",
              "                   \n",
              "                   "
            ]
          },
          "metadata": {}
        }
      ]
    },
    {
      "cell_type": "code",
      "source": [
        "# 2. Creating the contingency table using the CrossTable() function in the gmodels package.\n",
        "\n",
        "# 2-Way Cross Tabulation\n",
        "install.packages(\"gmodels\")\n",
        "library(gmodels)\n",
        "\n",
        "# Contingency table between workclass and sex\n",
        "# sex will be columns\n",
        "CrossTable(adult_training$workclass, adult_training$sex)"
      ],
      "metadata": {
        "colab": {
          "base_uri": "https://localhost:8080/"
        },
        "id": "kmZR1Ms10Et7",
        "outputId": "6383635b-42fd-43ec-e181-4c0c42e1c9f0"
      },
      "execution_count": 86,
      "outputs": [
        {
          "output_type": "stream",
          "name": "stderr",
          "text": [
            "Installing package into ‘/usr/local/lib/R/site-library’\n",
            "(as ‘lib’ is unspecified)\n",
            "\n"
          ]
        },
        {
          "output_type": "stream",
          "name": "stdout",
          "text": [
            "\n",
            " \n",
            "   Cell Contents\n",
            "|-------------------------|\n",
            "|                       N |\n",
            "| Chi-square contribution |\n",
            "|           N / Row Total |\n",
            "|           N / Col Total |\n",
            "|         N / Table Total |\n",
            "|-------------------------|\n",
            "\n",
            " \n",
            "Total Observations in Table:  14797 \n",
            "\n",
            " \n",
            "                         | adult_training$sex \n",
            "adult_training$workclass |    Female |      Male | Row Total | \n",
            "-------------------------|-----------|-----------|-----------|\n",
            "                       ? |       377 |       452 |       829 | \n",
            "                         |    37.662 |    18.715 |           | \n",
            "                         |     0.455 |     0.545 |     0.056 | \n",
            "                         |     0.077 |     0.046 |           | \n",
            "                         |     0.025 |     0.031 |           | \n",
            "-------------------------|-----------|-----------|-----------|\n",
            "             Federal-gov |       149 |       305 |       454 | \n",
            "                         |     0.019 |     0.010 |           | \n",
            "                         |     0.328 |     0.672 |     0.031 | \n",
            "                         |     0.030 |     0.031 |           | \n",
            "                         |     0.010 |     0.021 |           | \n",
            "-------------------------|-----------|-----------|-----------|\n",
            "               Local-gov |       377 |       592 |       969 | \n",
            "                         |     9.518 |     4.730 |           | \n",
            "                         |     0.389 |     0.611 |     0.065 | \n",
            "                         |     0.077 |     0.060 |           | \n",
            "                         |     0.025 |     0.040 |           | \n",
            "-------------------------|-----------|-----------|-----------|\n",
            "            Never-worked |         1 |         4 |         5 | \n",
            "                         |     0.262 |     0.130 |           | \n",
            "                         |     0.200 |     0.800 |     0.000 | \n",
            "                         |     0.000 |     0.000 |           | \n",
            "                         |     0.000 |     0.000 |           | \n",
            "-------------------------|-----------|-----------|-----------|\n",
            "                 Private |      3574 |      6707 |     10281 | \n",
            "                         |     7.607 |     3.780 |           | \n",
            "                         |     0.348 |     0.652 |     0.695 | \n",
            "                         |     0.728 |     0.679 |           | \n",
            "                         |     0.242 |     0.453 |           | \n",
            "-------------------------|-----------|-----------|-----------|\n",
            "            Self-emp-inc |        54 |       444 |       498 | \n",
            "                         |    74.955 |    37.246 |           | \n",
            "                         |     0.108 |     0.892 |     0.034 | \n",
            "                         |     0.011 |     0.045 |           | \n",
            "                         |     0.004 |     0.030 |           | \n",
            "-------------------------|-----------|-----------|-----------|\n",
            "        Self-emp-not-inc |       178 |       992 |      1170 | \n",
            "                         |   113.970 |    56.633 |           | \n",
            "                         |     0.152 |     0.848 |     0.079 | \n",
            "                         |     0.036 |     0.100 |           | \n",
            "                         |     0.012 |     0.067 |           | \n",
            "-------------------------|-----------|-----------|-----------|\n",
            "               State-gov |       201 |       385 |       586 | \n",
            "                         |     0.215 |     0.107 |           | \n",
            "                         |     0.343 |     0.657 |     0.040 | \n",
            "                         |     0.041 |     0.039 |           | \n",
            "                         |     0.014 |     0.026 |           | \n",
            "-------------------------|-----------|-----------|-----------|\n",
            "             Without-pay |         1 |         4 |         5 | \n",
            "                         |     0.262 |     0.130 |           | \n",
            "                         |     0.200 |     0.800 |     0.000 | \n",
            "                         |     0.000 |     0.000 |           | \n",
            "                         |     0.000 |     0.000 |           | \n",
            "-------------------------|-----------|-----------|-----------|\n",
            "            Column Total |      4912 |      9885 |     14797 | \n",
            "                         |     0.332 |     0.668 |           | \n",
            "-------------------------|-----------|-----------|-----------|\n",
            "\n",
            " \n"
          ]
        }
      ]
    },
    {
      "cell_type": "code",
      "source": [
        "# 2. Plotting the cross table of workclass and sex using ggplot2\n",
        "\n",
        "library(\"ggplot2\")\n",
        "\n",
        "# the contingency table for $workclass vs. $sex variables\n",
        "P <- prop.table(table(adult_training$workclass, adult_training$sex), margin=2)\n",
        "\n",
        "ggplot(as.data.frame(P), aes(x = 'Work Class', y = Freq, fill = Var1)) +\n",
        "\n",
        "# dodge: display the bars next to each other, try 'fill' as well for proportions\n",
        "# count the rows for each x value\n",
        "# identity: skip aggregation\n",
        "geom_bar(stat=\"identity\", position = \"dodge\")"
      ],
      "metadata": {
        "colab": {
          "base_uri": "https://localhost:8080/",
          "height": 437
        },
        "id": "Y1vEJga5IQRe",
        "outputId": "a8a013a7-a492-4e47-ac90-cc7006d4546f"
      },
      "execution_count": 87,
      "outputs": [
        {
          "output_type": "display_data",
          "data": {
            "text/plain": [
              "plot without title"
            ],
            "image/png": "[encoded data removed]"
          },
          "metadata": {
            "image/png": {
              "width": 420,
              "height": 420
            }
          }
        }
      ]
    },
    {
      "cell_type": "code",
      "source": [
        "# 3. Creating the contingency table using the CrossTable() function in the gmodels package.\n",
        "\n",
        "# 2-Way Cross Tabulation\n",
        "install.packages(\"gmodels\")\n",
        "library(gmodels)\n",
        "\n",
        "# Contingency table between marital-status and sex\n",
        "# sex will be columns\n",
        "CrossTable(adult_training$'marital-status', adult_training$sex)"
      ],
      "metadata": {
        "colab": {
          "base_uri": "https://localhost:8080/"
        },
        "id": "dkPAwT3T2H9o",
        "outputId": "996f753c-f241-4a40-8c1c-d17e884a096d"
      },
      "execution_count": 89,
      "outputs": [
        {
          "output_type": "stream",
          "name": "stderr",
          "text": [
            "Installing package into ‘/usr/local/lib/R/site-library’\n",
            "(as ‘lib’ is unspecified)\n",
            "\n"
          ]
        },
        {
          "output_type": "stream",
          "name": "stdout",
          "text": [
            "\n",
            " \n",
            "   Cell Contents\n",
            "|-------------------------|\n",
            "|                       N |\n",
            "| Chi-square contribution |\n",
            "|           N / Row Total |\n",
            "|           N / Col Total |\n",
            "|         N / Table Total |\n",
            "|-------------------------|\n",
            "\n",
            " \n",
            "Total Observations in Table:  14797 \n",
            "\n",
            " \n",
            "                                | adult_training$sex \n",
            "adult_training$\"marital-status\" |    Female |      Male | Row Total | \n",
            "--------------------------------|-----------|-----------|-----------|\n",
            "                       Divorced |      1219 |       795 |      2014 | \n",
            "                                |   453.176 |   225.190 |           | \n",
            "                                |     0.605 |     0.395 |     0.136 | \n",
            "                                |     0.248 |     0.080 |           | \n",
            "                                |     0.082 |     0.054 |           | \n",
            "--------------------------------|-----------|-----------|-----------|\n",
            "              Married-AF-spouse |         7 |         4 |        11 | \n",
            "                                |     3.071 |     1.526 |           | \n",
            "                                |     0.636 |     0.364 |     0.001 | \n",
            "                                |     0.001 |     0.000 |           | \n",
            "                                |     0.000 |     0.000 |           | \n",
            "--------------------------------|-----------|-----------|-----------|\n",
            "             Married-civ-spouse |       761 |      6010 |      6771 | \n",
            "                                |   983.347 |   488.639 |           | \n",
            "                                |     0.112 |     0.888 |     0.458 | \n",
            "                                |     0.155 |     0.608 |           | \n",
            "                                |     0.051 |     0.406 |           | \n",
            "--------------------------------|-----------|-----------|-----------|\n",
            "          Married-spouse-absent |        95 |       104 |       199 | \n",
            "                                |    12.678 |     6.300 |           | \n",
            "                                |     0.477 |     0.523 |     0.013 | \n",
            "                                |     0.019 |     0.011 |           | \n",
            "                                |     0.006 |     0.007 |           | \n",
            "--------------------------------|-----------|-----------|-----------|\n",
            "                  Never-married |      2160 |      2717 |      4877 | \n",
            "                                |   180.806 |    89.845 |           | \n",
            "                                |     0.443 |     0.557 |     0.330 | \n",
            "                                |     0.440 |     0.275 |           | \n",
            "                                |     0.146 |     0.184 |           | \n",
            "--------------------------------|-----------|-----------|-----------|\n",
            "                      Separated |       290 |       182 |       472 | \n",
            "                                |   113.431 |    56.366 |           | \n",
            "                                |     0.614 |     0.386 |     0.032 | \n",
            "                                |     0.059 |     0.018 |           | \n",
            "                                |     0.020 |     0.012 |           | \n",
            "--------------------------------|-----------|-----------|-----------|\n",
            "                        Widowed |       380 |        73 |       453 | \n",
            "                                |   350.627 |   174.232 |           | \n",
            "                                |     0.839 |     0.161 |     0.031 | \n",
            "                                |     0.077 |     0.007 |           | \n",
            "                                |     0.026 |     0.005 |           | \n",
            "--------------------------------|-----------|-----------|-----------|\n",
            "                   Column Total |      4912 |      9885 |     14797 | \n",
            "                                |     0.332 |     0.668 |           | \n",
            "--------------------------------|-----------|-----------|-----------|\n",
            "\n",
            " \n"
          ]
        }
      ]
    },
    {
      "cell_type": "code",
      "source": [
        "# 3. Plotting the cross table of sex and marital-status using ggplot2\n",
        "\n",
        "library(\"ggplot2\")\n",
        "\n",
        "# the contingency table for $'marital-status' vs. $sex variables\n",
        "P <- prop.table(table(adult_training$'marital-status', adult_training$sex), margin=2)\n",
        "\n",
        "ggplot(as.data.frame(P), aes(x = 'Sex', y = Freq, fill = Var1)) +\n",
        "\n",
        "# dodge: display the bars next to each other, try 'fill' as well for proportions\n",
        "# count the rows for each x value\n",
        "# identity: skip aggregation\n",
        "geom_bar(stat=\"identity\", position = \"dodge\")"
      ],
      "metadata": {
        "colab": {
          "base_uri": "https://localhost:8080/",
          "height": 437
        },
        "id": "TqKx9dEIOs5m",
        "outputId": "42d980d1-dad3-46e3-8fd4-bb475781aba6"
      },
      "execution_count": 91,
      "outputs": [
        {
          "output_type": "display_data",
          "data": {
            "text/plain": [
              "plot without title"
            ],
            "image/png": "[encoded data removed]"
          },
          "metadata": {
            "image/png": {
              "width": 420,
              "height": 420
            }
          }
        }
      ]
    },
    {
      "cell_type": "code",
      "source": [
        "# 4. Create a new data frame, adultOver40, for those whose age > 40.\n",
        "\n",
        "adultOver40 <- subset(adult_training, adult_training$age > 40)\n",
        "\n",
        "summary(adultOver40)"
      ],
      "metadata": {
        "colab": {
          "base_uri": "https://localhost:8080/",
          "height": 392
        },
        "id": "5NSXxar8PxIP",
        "outputId": "d085324f-1519-4774-eb7c-9198227415c4"
      },
      "execution_count": 93,
      "outputs": [
        {
          "output_type": "display_data",
          "data": {
            "text/plain": [
              "      age         workclass           education     marital-status    \n",
              " Min.   :41.00   Length:6144        Min.   : 1.00   Length:6144       \n",
              " 1st Qu.:45.00   Class :character   1st Qu.: 9.00   Class :character  \n",
              " Median :50.00   Mode  :character   Median :10.00   Mode  :character  \n",
              " Mean   :52.08                      Mean   :10.15                     \n",
              " 3rd Qu.:57.00                      3rd Qu.:13.00                     \n",
              " Max.   :90.00                      Max.   :16.00                     \n",
              "  occupation            sex             capital-gain    capital-loss   \n",
              " Length:6144        Length:6144        Min.   :    0   Min.   :   0.0  \n",
              " Class :character   Class :character   1st Qu.:    0   1st Qu.:   0.0  \n",
              " Mode  :character   Mode  :character   Median :    0   Median :   0.0  \n",
              "                                       Mean   : 1598   Mean   : 115.3  \n",
              "                                       3rd Qu.:    0   3rd Qu.:   0.0  \n",
              "                                       Max.   :99999   Max.   :4356.0  \n",
              "    income         \n",
              " Length:6144       \n",
              " Class :character  \n",
              " Mode  :character  \n",
              "                   \n",
              "                   \n",
              "                   "
            ]
          },
          "metadata": {}
        }
      ]
    },
    {
      "cell_type": "code",
      "source": [
        "# 5. Creating the contingency table using the CrossTable() function in the gmodels package.\n",
        "\n",
        "# 2-Way Cross Tabulation\n",
        "install.packages(\"gmodels\")\n",
        "library(gmodels)\n",
        "\n",
        "# Contingency table between marital-status and sex for people 40 or above\n",
        "# sex will be columns\n",
        "CrossTable(adultOver40$'marital-status', adultOver40$sex)"
      ],
      "metadata": {
        "colab": {
          "base_uri": "https://localhost:8080/"
        },
        "id": "_ikoirg02hs3",
        "outputId": "3063f964-05d2-4a68-b2fe-1f5b7c56c14e"
      },
      "execution_count": 95,
      "outputs": [
        {
          "output_type": "stream",
          "name": "stderr",
          "text": [
            "Installing package into ‘/usr/local/lib/R/site-library’\n",
            "(as ‘lib’ is unspecified)\n",
            "\n"
          ]
        },
        {
          "output_type": "stream",
          "name": "stdout",
          "text": [
            "\n",
            " \n",
            "   Cell Contents\n",
            "|-------------------------|\n",
            "|                       N |\n",
            "| Chi-square contribution |\n",
            "|           N / Row Total |\n",
            "|           N / Col Total |\n",
            "|         N / Table Total |\n",
            "|-------------------------|\n",
            "\n",
            " \n",
            "Total Observations in Table:  6144 \n",
            "\n",
            " \n",
            "                             | adultOver40$sex \n",
            "adultOver40$\"marital-status\" |    Female |      Male | Row Total | \n",
            "-----------------------------|-----------|-----------|-----------|\n",
            "                    Divorced |       720 |       448 |      1168 | \n",
            "                             |   413.254 |   172.046 |           | \n",
            "                             |     0.616 |     0.384 |     0.190 | \n",
            "                             |     0.399 |     0.103 |           | \n",
            "                             |     0.117 |     0.073 |           | \n",
            "-----------------------------|-----------|-----------|-----------|\n",
            "          Married-civ-spouse |       305 |      3383 |      3688 | \n",
            "                             |   559.881 |   233.090 |           | \n",
            "                             |     0.083 |     0.917 |     0.600 | \n",
            "                             |     0.169 |     0.780 |           | \n",
            "                             |     0.050 |     0.551 |           | \n",
            "-----------------------------|-----------|-----------|-----------|\n",
            "       Married-spouse-absent |        38 |        47 |        85 | \n",
            "                             |     6.779 |     2.822 |           | \n",
            "                             |     0.447 |     0.553 |     0.014 | \n",
            "                             |     0.021 |     0.011 |           | \n",
            "                             |     0.006 |     0.008 |           | \n",
            "-----------------------------|-----------|-----------|-----------|\n",
            "               Never-married |       256 |       315 |       571 | \n",
            "                             |    46.303 |    19.277 |           | \n",
            "                             |     0.448 |     0.552 |     0.093 | \n",
            "                             |     0.142 |     0.073 |           | \n",
            "                             |     0.042 |     0.051 |           | \n",
            "-----------------------------|-----------|-----------|-----------|\n",
            "                   Separated |       133 |        74 |       207 | \n",
            "                             |    85.561 |    35.621 |           | \n",
            "                             |     0.643 |     0.357 |     0.034 | \n",
            "                             |     0.074 |     0.017 |           | \n",
            "                             |     0.022 |     0.012 |           | \n",
            "-----------------------------|-----------|-----------|-----------|\n",
            "                     Widowed |       354 |        71 |       425 | \n",
            "                             |   420.043 |   174.872 |           | \n",
            "                             |     0.833 |     0.167 |     0.069 | \n",
            "                             |     0.196 |     0.016 |           | \n",
            "                             |     0.058 |     0.012 |           | \n",
            "-----------------------------|-----------|-----------|-----------|\n",
            "                Column Total |      1806 |      4338 |      6144 | \n",
            "                             |     0.294 |     0.706 |           | \n",
            "-----------------------------|-----------|-----------|-----------|\n",
            "\n",
            " \n"
          ]
        }
      ]
    },
    {
      "cell_type": "code",
      "source": [
        "# 5. Plotting the cross table of sex and marital-status for adultOver40 using ggplot2\n",
        "\n",
        "library(\"ggplot2\")\n",
        "\n",
        "# the contingency table for $'marital-status' vs. $sex variables for adultOver40\n",
        "P <- prop.table(table(adultOver40$'marital-status', adultOver40$sex), margin=2)\n",
        "\n",
        "ggplot(as.data.frame(P), aes(x = 'Sex', y = Freq, fill = Var1)) +\n",
        "\n",
        "# dodge: display the bars next to each other, try 'fill' as well for proportions\n",
        "# count the rows for each x value\n",
        "# identity: skip aggregation\n",
        "geom_bar(stat=\"identity\", position = \"dodge\")"
      ],
      "metadata": {
        "colab": {
          "base_uri": "https://localhost:8080/",
          "height": 437
        },
        "id": "h6Maq-KbRvar",
        "outputId": "ed73951a-adad-480b-a0c3-91ecbca2ac0d"
      },
      "execution_count": 96,
      "outputs": [
        {
          "output_type": "display_data",
          "data": {
            "text/plain": [
              "plot without title"
            ],
            "image/png": "[encoded data removed]"
          },
          "metadata": {
            "image/png": {
              "width": 420,
              "height": 420
            }
          }
        }
      ]
    },
    {
      "cell_type": "code",
      "source": [
        "# 6. Determine whether any outliers exist for the education field.\n",
        "\n",
        "# Standardize the education field using the scale() function\n",
        "adult_training$scaled_education <- scale(x = adult_training$education)\n",
        "\n",
        "# Summarize the new data\n",
        "summary(adult_training$scaled_education)"
      ],
      "metadata": {
        "colab": {
          "base_uri": "https://localhost:8080/",
          "height": 142
        },
        "id": "w2irDIl-nTjb",
        "outputId": "2404c8d1-1058-436a-9b9e-37949ebb3b61"
      },
      "execution_count": 97,
      "outputs": [
        {
          "output_type": "display_data",
          "data": {
            "text/plain": [
              "       V1          \n",
              " Min.   :-3.49029  \n",
              " 1st Qu.:-0.41135  \n",
              " Median :-0.02648  \n",
              " Mean   : 0.00000  \n",
              " 3rd Qu.: 0.74326  \n",
              " Max.   : 2.28273  "
            ]
          },
          "metadata": {}
        }
      ]
    },
    {
      "cell_type": "code",
      "source": [
        "# 6. Find the number of outliers in scaled education.\n",
        "# If no outliers exist, there are no outliers.\n",
        "# If the result is greater than 0, then outliers do exist.\n",
        "\n",
        "# Determine the three sigma rule first for the scaled_age attribute\n",
        "three_sigma_rule <- (adult_training$scaled_education < -3 |\n",
        "                     adult_training$scaled_education > 3 )\n",
        "\n",
        "\n",
        "# how many outliers are there?\n",
        "cat (\"There are\", sum(three_sigma_rule), \"outliers.\")"
      ],
      "metadata": {
        "colab": {
          "base_uri": "https://localhost:8080/"
        },
        "id": "G3AGY_xBnzX6",
        "outputId": "ea864f02-f1b4-4775-e77e-2abe492feb9a"
      },
      "execution_count": 98,
      "outputs": [
        {
          "output_type": "stream",
          "name": "stdout",
          "text": [
            "There are 113 outliers."
          ]
        }
      ]
    },
    {
      "cell_type": "code",
      "source": [
        "# 7. Standardize (zero mean) the age variable and summarize\n",
        "\n",
        "# Standardize using the scale() function\n",
        "adult_training$scaled_age <- scale(x = adult_training$age)\n",
        "\n",
        "# Summarize the new data\n",
        "summary(adult_training$age)"
      ],
      "metadata": {
        "colab": {
          "base_uri": "https://localhost:8080/",
          "height": 53
        },
        "id": "ehdpFPNaoqfI",
        "outputId": "d7101b78-556f-4ce5-8278-02642521d43f"
      },
      "execution_count": 99,
      "outputs": [
        {
          "output_type": "display_data",
          "data": {
            "text/plain": [
              "   Min. 1st Qu.  Median    Mean 3rd Qu.    Max. \n",
              "  17.00   28.00   37.00   38.69   48.00   90.00 "
            ]
          },
          "metadata": {}
        }
      ]
    },
    {
      "cell_type": "code",
      "source": [
        "# 7. Identify how many outliers there are.\n",
        "\n",
        "# Determine the three sigma rule first for the scaled_age attribute\n",
        "three_sigma_rule <- (adult_training$scaled_age < -3 |\n",
        "                     adult_training$scaled_age > 3 )\n",
        "\n",
        "\n",
        "# how many outliers are there?\n",
        "cat (\"There are\", sum(three_sigma_rule), \"outliers.\")"
      ],
      "metadata": {
        "colab": {
          "base_uri": "https://localhost:8080/"
        },
        "id": "BWwfKT3dox41",
        "outputId": "128466ea-28cd-4305-d80d-569c822b8c27"
      },
      "execution_count": 100,
      "outputs": [
        {
          "output_type": "stream",
          "name": "stdout",
          "text": [
            "There are 60 outliers."
          ]
        }
      ]
    },
    {
      "cell_type": "code",
      "source": [
        "# 7. What is the most extreme outlier?\n",
        "# The max value for the scaled variable is greater than 3.\n",
        "# The min value for the scaled variable is less than -3.\n",
        "# Therefore, the most extreme outlier is the max value for age.\n",
        "\n",
        "cat (\"The most extreme outlier for scaled_age is\" , max(adult_training$scaled_age), \"\\n\")\n",
        "cat (\"The most extreme outlier for age is\" , max(adult_training$age))"
      ],
      "metadata": {
        "colab": {
          "base_uri": "https://localhost:8080/"
        },
        "id": "q4icQzeOo5Xy",
        "outputId": "cceba7c2-5097-4123-9e20-1c09bced7fbc"
      },
      "execution_count": 101,
      "outputs": [
        {
          "output_type": "stream",
          "name": "stdout",
          "text": [
            "The most extreme outlier for scaled_age is 3.751227 \n",
            "The most extreme outlier for age is 90"
          ]
        }
      ]
    },
    {
      "cell_type": "code",
      "source": [
        "# 8. Selecting only records with age at least 80\n",
        "\n",
        "adult_80_Or_Over <- subset(adult_training, age >= 80)\n",
        "\n",
        "# Constructing a histogram of the data\n",
        "hist(adult_80_Or_Over$age)\n",
        "\n",
        "# It seems that there is an anomoly since the data stops at the age of 90."
      ],
      "metadata": {
        "colab": {
          "base_uri": "https://localhost:8080/",
          "height": 437
        },
        "id": "bRSAJM0gqLKu",
        "outputId": "c4801869-def2-404f-8d07-e64db45d3bdd"
      },
      "execution_count": 103,
      "outputs": [
        {
          "output_type": "display_data",
          "data": {
            "text/plain": [
              "Plot with title “Histogram of adult_80_Or_Over$age”"
            ],
            "image/png": "[encoded data removed]"
          },
          "metadata": {
            "image/png": {
              "width": 420,
              "height": 420
            }
          }
        }
      ]
    },
    {
      "cell_type": "markdown",
      "source": [
        "---\n",
        "## 9. Summarize your findings.\n",
        "---\n",
        "1. I read the provided data file, converted it to a data frame and summarized it.\n",
        "2. I created the crosstab of the workclass and sex variables. I used workclass for the rows and sex for the columns. I plotted the data with ggplot2. Private was the highest workclass for both males and females.\n",
        "3. I created the crosstab of the sex and marital-status variables. I used marital-status for the rows and sex for the columns. I plotted the data with ggplot2. Married-civ-spouse, never-married, and divorced were the 3 highest marital-status for males and females.\n",
        "4. I created a new data frame for adults over 40 and summarized it.\n",
        "5. I created the crosstab for sex and marital-status variables for adults with an age of 40 or over. I used marital-status for the rows and sex for the columns. I plotted the data with ggplot2. This time, married-civ-spouse was still the highest marital-status for males and females 40 or above. The divorced marital-status increased in frequency and the never-married martial-status decreased in frequency for adults 40 or above.\n",
        "6. I first standardized the education field using the scale() function and summarized the new scaled_education variable. To determine if there were any outliers, I summed up the number of outliers in the scaled_education field using the three-sigma-rule. I found that there were 113 outliers counted within the field. Therefore, outliers did exist within the education field.\n",
        "7. I first standardized the age variable using the scale() function and summarized the new scaled_age variable. I counted the number of outliers using the three-sigma-rule. I found that 60 values lied outside 3 standard deviations of the mean. Looking at the basic stats for the scaled_age variable, I noticed that the min value (-1.59) was greater than -3, and the max value (3.75) was greater than 3. I used this information to confirm that the max value was the most extreme outlier within the field since it was 3 standard deviations above the mean and the min value also did not exceed 3 standard deviations below the mean. Therefore, the most extreme outlier in the scaled_age field was 3.75, and the most extreme outlier in the age field was 90.\n",
        "8. I made a new data frame for adults greater than or equal to the age of 80 using the subset() function. I then selected the age column and made a histogram out of it using the hist() function. It appears that there is a large number of people at the age of 90 and there is no one older than that. This could be an anomoly in the data since people can go above the age of 90. This shows that the age was perhaps capped at 90 when collecting the data, or there may have been an error that did not include data from people older than 90.\n",
        "---"
      ],
      "metadata": {
        "id": "McAUd7_nIH-N"
      }
    }
  ]
}